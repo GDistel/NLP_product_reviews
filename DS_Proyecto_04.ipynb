{
 "cells": [
  {
   "cell_type": "markdown",
   "metadata": {},
   "source": [
    "# Proyecto 4\n",
    "\n",
    "**GITHUB link**: https://github.com/GDistel/NLP_product_reviews\n",
    "\n",
    "**ATENCION**: Descargar archivo X.csv de carpeta de Google Drive (GitHub no lo acepta por ser muy pesado): https://drive.google.com/drive/folders/1Y2bpu_Gu9q7nu93rYOE054-g0_eOPKOg?usp=sharing\n",
    "\n",
    "En éste último proyecto, vamos a continuar el trabajo que veníamos realizando en el proyecto 3.\n",
    "\n",
    "El objetivo es: **Optimizar el modelo del problema binario (calificación positiva 1 y calificación negativa 0)**"
   ]
  },
  {
   "cell_type": "markdown",
   "metadata": {},
   "source": [
    "### Librerias"
   ]
  },
  {
   "cell_type": "code",
   "execution_count": 1,
   "metadata": {},
   "outputs": [],
   "source": [
    "import numpy as np\n",
    "import pandas as pd\n",
    "import matplotlib.pyplot as plt\n",
    "import seaborn as sns\n",
    "\n",
    "from sklearn.model_selection import train_test_split\n",
    "from sklearn.svm import LinearSVC\n",
    "from sklearn.metrics import accuracy_score, confusion_matrix, classification_report, plot_confusion_matrix\n",
    "from sklearn.model_selection import GridSearchCV\n",
    "\n",
    "import warnings\n",
    "warnings.filterwarnings('ignore')"
   ]
  },
  {
   "cell_type": "markdown",
   "metadata": {},
   "source": [
    "## Objetivo: Optimizar el modelo del problema binario\n",
    "\n",
    "En la última parte del proyecto 3, decidimos continuar con la sugerencia de transformar el problema multinómico de 5 clases (la evaluación en estrellas de 1 a 5) a un problema binario en donde la evaluación es positiva o negativa.\n",
    "\n",
    "Para ésto, transformamos las categorías de la siguiente manera:\n",
    "- Estrellas 1, 2, y 3 corresponden a la categoría de review negativa (0).\n",
    "- Estrellas 4 y 5 corresponden a la categoría positiva (1).\n",
    "\n",
    "Una exploración rápida demuestra que el accuracy aumenta considerablemente cuando las categorías a predecir son dos, por lo que ésto podría resultar una manera de redefinir el problema. Claro que, en una situación real, habría que ver si al cliente le sirve dicha redefinición."
   ]
  },
  {
   "cell_type": "code",
   "execution_count": 2,
   "metadata": {},
   "outputs": [],
   "source": [
    "# Cargado de datos\n",
    "\n",
    "data_train = pd.read_csv('./DS_Proyecto_03_data_train_lemma.csv')\n",
    "y = data_train.stars\n",
    "X = pd.read_csv('./X.csv')"
   ]
  },
  {
   "cell_type": "code",
   "execution_count": 3,
   "metadata": {},
   "outputs": [
    {
     "data": {
      "text/plain": [
       "0    96075\n",
       "1    63925\n",
       "Name: stars, dtype: int64"
      ]
     },
     "execution_count": 3,
     "metadata": {},
     "output_type": "execute_result"
    }
   ],
   "source": [
    "# Train test split\n",
    "\n",
    "X_train, X_test, y_train, y_test = train_test_split(X, y, test_size = 0.2, random_state = 42)\n",
    "\n",
    "# Binificación de la variable objetivo\n",
    "\n",
    "binify = lambda x: 1 if x > 3 else 0\n",
    "y_train_bin = y_train.transform(binify)\n",
    "y_test_bin = y_test.transform(binify)\n",
    "\n",
    "# Cantidad de valores para 0 y 1\n",
    "\n",
    "y_train_bin.value_counts()"
   ]
  },
  {
   "cell_type": "code",
   "execution_count": 4,
   "metadata": {},
   "outputs": [
    {
     "data": {
      "text/plain": [
       "0    23925\n",
       "1    16075\n",
       "Name: stars, dtype: int64"
      ]
     },
     "execution_count": 4,
     "metadata": {},
     "output_type": "execute_result"
    }
   ],
   "source": [
    "# Cantidad de valores para 0 y 1\n",
    "\n",
    "y_test_bin.value_counts()"
   ]
  },
  {
   "cell_type": "code",
   "execution_count": 5,
   "metadata": {},
   "outputs": [
    {
     "data": {
      "text/plain": [
       "0.815425"
      ]
     },
     "execution_count": 5,
     "metadata": {},
     "output_type": "execute_result"
    }
   ],
   "source": [
    "# Modelo benchmark\n",
    "\n",
    "clf_binary = LinearSVC(random_state = 42)\n",
    "clf_binary.fit(X_train, y_train_bin)\n",
    "\n",
    "y_test_pred_bin = clf_binary.predict(X_test)\n",
    "accuracy_score(y_test_pred_bin, y_test_bin)"
   ]
  },
  {
   "cell_type": "markdown",
   "metadata": {},
   "source": [
    "El dataset ha quedado ahora ligeramente desbalanceado: 60% de los datos corresponden a la clasificación negativa mientras que 40% a la positiva. Ésta diferencia no parece ser muy importante por lo que, si bien podríamos adoptar diferentes estrategias para re-balancearlos (por ej. undersampling de la clase dominante), optamos por dejar las cosas como están.\n",
    "\n",
    "Vamos a proceder a optimizar el modelo binario."
   ]
  },
  {
   "cell_type": "code",
   "execution_count": 6,
   "metadata": {},
   "outputs": [
    {
     "name": "stdout",
     "output_type": "stream",
     "text": [
      "CPU times: user 10.9 s, sys: 11.4 s, total: 22.3 s\n",
      "Wall time: 23min 18s\n"
     ]
    },
    {
     "data": {
      "text/plain": [
       "{'C': 0.5,\n",
       " 'loss': 'squared_hinge',\n",
       " 'multi_class': 'ovr',\n",
       " 'penalty': 'l1',\n",
       " 'tol': 0.0001}"
      ]
     },
     "execution_count": 6,
     "metadata": {},
     "output_type": "execute_result"
    }
   ],
   "source": [
    "%%time\n",
    "\n",
    "# Optimización\n",
    "\n",
    "param_grid = {\n",
    "    'penalty': ['l1', 'l2'],\n",
    "    'loss': ['hinge', 'squared_hinge'],\n",
    "    'tol': [1e-3, 1e-4, 1e-5],\n",
    "    'C': [0.01, 0.1, 0.5, 1.0, 1.1],\n",
    "    'multi_class': ['ovr'],\n",
    "}\n",
    "\n",
    "clf = LinearSVC(random_state = 42, dual = False) # dual = False es preferible cuando n_samples > n_features\n",
    "clf_opt = GridSearchCV(estimator = clf, param_grid = param_grid, cv = 5, n_jobs = -1, scoring = 'accuracy')\n",
    "\n",
    "clf_opt.fit(X_train, y_train_bin)\n",
    "clf_opt.best_params_"
   ]
  },
  {
   "cell_type": "code",
   "execution_count": 7,
   "metadata": {},
   "outputs": [
    {
     "name": "stdout",
     "output_type": "stream",
     "text": [
      "Accuracy para LinearSVC optimizado: 0.815625\n"
     ]
    }
   ],
   "source": [
    "y_test_pred = clf_opt.predict(X_test)\n",
    "acc_clf_opt = accuracy_score(y_test_pred, y_test_bin)\n",
    "print(f'Accuracy para LinearSVC optimizado: {acc_clf_opt}')"
   ]
  },
  {
   "cell_type": "code",
   "execution_count": 8,
   "metadata": {},
   "outputs": [
    {
     "data": {
      "text/plain": [
       "<sklearn.metrics._plot.confusion_matrix.ConfusionMatrixDisplay at 0x7fe264f17710>"
      ]
     },
     "execution_count": 8,
     "metadata": {},
     "output_type": "execute_result"
    },
    {
     "data": {
      "image/png": "[encoded data removed]",
      "text/plain": [
       "<Figure size 432x288 with 2 Axes>"
      ]
     },
     "metadata": {
      "needs_background": "light"
     },
     "output_type": "display_data"
    }
   ],
   "source": [
    "# Matriz de confusión\n",
    "\n",
    "plot_confusion_matrix(clf_opt.best_estimator_, X_test, y_test_bin, cmap = plt.cm.Blues, values_format = '.0f')"
   ]
  },
  {
   "cell_type": "markdown",
   "metadata": {},
   "source": [
    "### Conclusión\n",
    "\n",
    "El accuracy obtenido es el mismo que el benchmark. Es decir, sucedió lo mismo que en el problema de 5 categorías en donde la optimización no aumentó el accuracy. Sin embargo, ésta continúa siendo buena. En términos simples: el clasificador acierta 4 de cada 5 veces en sus predicciones.\n",
    "\n",
    "Con respecto a lo observado en la matriz de confusión: la categoría negativa se predice mejor que la positiva.\n",
    "\n",
    "Observamos, en comparación con la optimización en el problema multiclase, que la fuerza de la regularización aumenta ('C'). Sin embargo, el resto de los hiperparámetros permanece igual, siguiendo también en línea con lo encontrado en el problema multiclase.\n",
    "\n",
    "En una situación real, la última palabra la tendría el cliente. Podría sugerirse que momentáneamente se acepte esta solución binaria, y que se continúe intentando optimizar el problema multiclase."
   ]
  }
 ],
 "metadata": {
  "kernelspec": {
   "display_name": "Python 3",
   "language": "python",
   "name": "python3"
  },
  "language_info": {
   "codemirror_mode": {
    "name": "ipython",
    "version": 3
   },
   "file_extension": ".py",
   "mimetype": "text/x-python",
   "name": "python",
   "nbconvert_exporter": "python",
   "pygments_lexer": "ipython3",
   "version": "3.7.7"
  }
 },
 "nbformat": 4,
 "nbformat_minor": 4
}
