{
 "cells": [
  {
   "cell_type": "markdown",
   "metadata": {},
   "source": [
    "# Parte A - Exploración de datos"
   ]
  },
  {
   "cell_type": "markdown",
   "metadata": {},
   "source": [
    "**GITHUB link**: https://github.com/GDistel/NLP_product_reviews\n",
    "\n",
    "## Cargado de librerias y datos"
   ]
  },
  {
   "cell_type": "code",
   "execution_count": 1,
   "metadata": {},
   "outputs": [],
   "source": [
    "import itertools\n",
    "\n",
    "import numpy as np\n",
    "import pandas as pd\n",
    "import matplotlib.pyplot as plt\n",
    "import seaborn as sns\n",
    "\n",
    "import nltk\n",
    "import spacy\n",
    "from sklearn.model_selection import train_test_split\n",
    "from sklearn.feature_extraction.text import TfidfVectorizer\n",
    "from sklearn.svm import LinearSVC\n",
    "from sklearn.naive_bayes import MultinomialNB\n",
    "from sklearn.ensemble import RandomForestClassifier\n",
    "from sklearn.metrics import accuracy_score, confusion_matrix, classification_report, plot_confusion_matrix\n",
    "from sklearn.model_selection import GridSearchCV\n",
    "\n",
    "import warnings\n",
    "warnings.filterwarnings('ignore')"
   ]
  },
  {
   "cell_type": "code",
   "execution_count": 2,
   "metadata": {},
   "outputs": [
    {
     "name": "stdout",
     "output_type": "stream",
     "text": [
      "Filas:  200000\n",
      "Columnas:  8\n"
     ]
    },
    {
     "data": {
      "text/html": [
       "<div>\n",
       "<style scoped>\n",
       "    .dataframe tbody tr th:only-of-type {\n",
       "        vertical-align: middle;\n",
       "    }\n",
       "\n",
       "    .dataframe tbody tr th {\n",
       "        vertical-align: top;\n",
       "    }\n",
       "\n",
       "    .dataframe thead th {\n",
       "        text-align: right;\n",
       "    }\n",
       "</style>\n",
       "<table border=\"1\" class=\"dataframe\">\n",
       "  <thead>\n",
       "    <tr style=\"text-align: right;\">\n",
       "      <th></th>\n",
       "      <th>review_id</th>\n",
       "      <th>product_id</th>\n",
       "      <th>reviewer_id</th>\n",
       "      <th>stars</th>\n",
       "      <th>review_body</th>\n",
       "      <th>review_title</th>\n",
       "      <th>language</th>\n",
       "      <th>product_category</th>\n",
       "    </tr>\n",
       "  </thead>\n",
       "  <tbody>\n",
       "    <tr>\n",
       "      <th>0</th>\n",
       "      <td>es_0491108</td>\n",
       "      <td>product_es_0296024</td>\n",
       "      <td>reviewer_es_0999081</td>\n",
       "      <td>1</td>\n",
       "      <td>Nada bueno se me fue ka pantalla en menos de 8...</td>\n",
       "      <td>television Nevir</td>\n",
       "      <td>es</td>\n",
       "      <td>electronics</td>\n",
       "    </tr>\n",
       "    <tr>\n",
       "      <th>1</th>\n",
       "      <td>es_0869872</td>\n",
       "      <td>product_es_0922286</td>\n",
       "      <td>reviewer_es_0216771</td>\n",
       "      <td>1</td>\n",
       "      <td>Horrible, nos tuvimos que comprar otro porque ...</td>\n",
       "      <td>Dinero tirado a la basura con esta compra</td>\n",
       "      <td>es</td>\n",
       "      <td>electronics</td>\n",
       "    </tr>\n",
       "    <tr>\n",
       "      <th>2</th>\n",
       "      <td>es_0811721</td>\n",
       "      <td>product_es_0474543</td>\n",
       "      <td>reviewer_es_0929213</td>\n",
       "      <td>1</td>\n",
       "      <td>Te obligan a comprar dos unidades y te llega s...</td>\n",
       "      <td>solo llega una unidad cuando te obligan a comp...</td>\n",
       "      <td>es</td>\n",
       "      <td>drugstore</td>\n",
       "    </tr>\n",
       "    <tr>\n",
       "      <th>3</th>\n",
       "      <td>es_0359921</td>\n",
       "      <td>product_es_0656090</td>\n",
       "      <td>reviewer_es_0224702</td>\n",
       "      <td>1</td>\n",
       "      <td>No entro en descalificar al vendedor, solo pue...</td>\n",
       "      <td>PRODUCTO NO RECIBIDO.</td>\n",
       "      <td>es</td>\n",
       "      <td>wireless</td>\n",
       "    </tr>\n",
       "    <tr>\n",
       "      <th>4</th>\n",
       "      <td>es_0068940</td>\n",
       "      <td>product_es_0662544</td>\n",
       "      <td>reviewer_es_0224827</td>\n",
       "      <td>1</td>\n",
       "      <td>Llega tarde y co la talla equivocada</td>\n",
       "      <td>Devuelto</td>\n",
       "      <td>es</td>\n",
       "      <td>shoes</td>\n",
       "    </tr>\n",
       "  </tbody>\n",
       "</table>\n",
       "</div>"
      ],
      "text/plain": [
       "    review_id          product_id          reviewer_id  stars  \\\n",
       "0  es_0491108  product_es_0296024  reviewer_es_0999081      1   \n",
       "1  es_0869872  product_es_0922286  reviewer_es_0216771      1   \n",
       "2  es_0811721  product_es_0474543  reviewer_es_0929213      1   \n",
       "3  es_0359921  product_es_0656090  reviewer_es_0224702      1   \n",
       "4  es_0068940  product_es_0662544  reviewer_es_0224827      1   \n",
       "\n",
       "                                         review_body  \\\n",
       "0  Nada bueno se me fue ka pantalla en menos de 8...   \n",
       "1  Horrible, nos tuvimos que comprar otro porque ...   \n",
       "2  Te obligan a comprar dos unidades y te llega s...   \n",
       "3  No entro en descalificar al vendedor, solo pue...   \n",
       "4               Llega tarde y co la talla equivocada   \n",
       "\n",
       "                                        review_title language product_category  \n",
       "0                                   television Nevir       es      electronics  \n",
       "1          Dinero tirado a la basura con esta compra       es      electronics  \n",
       "2  solo llega una unidad cuando te obligan a comp...       es        drugstore  \n",
       "3                              PRODUCTO NO RECIBIDO.       es         wireless  \n",
       "4                                           Devuelto       es            shoes  "
      ]
     },
     "execution_count": 2,
     "metadata": {},
     "output_type": "execute_result"
    }
   ],
   "source": [
    "data_train = pd.read_json('./dataset_amazon/dataset_es_train.json', lines = True)\n",
    "filas, columnas = data_train.shape\n",
    "\n",
    "print('Filas: ', filas)\n",
    "print('Columnas: ', columnas)\n",
    "data_train.head()"
   ]
  },
  {
   "cell_type": "markdown",
   "metadata": {},
   "source": [
    "## Análisis Exploratorio de Datos básico"
   ]
  },
  {
   "cell_type": "markdown",
   "metadata": {},
   "source": [
    "### Conteo general de valores faltantes:\n",
    "#### Cuántos valores faltantes hay por cada columna?"
   ]
  },
  {
   "cell_type": "code",
   "execution_count": 3,
   "metadata": {},
   "outputs": [
    {
     "data": {
      "text/plain": [
       "review_id           0\n",
       "product_id          0\n",
       "reviewer_id         0\n",
       "stars               0\n",
       "review_body         0\n",
       "review_title        0\n",
       "language            0\n",
       "product_category    0\n",
       "dtype: int64"
      ]
     },
     "execution_count": 3,
     "metadata": {},
     "output_type": "execute_result"
    }
   ],
   "source": [
    "data_train.isna().sum()"
   ]
  },
  {
   "cell_type": "markdown",
   "metadata": {},
   "source": [
    "Tenemos un dataset en el que no hay valores faltantes."
   ]
  },
  {
   "cell_type": "markdown",
   "metadata": {},
   "source": [
    "### Conteo de estrellas:\n",
    "#### Pregunta: Qué cantidad de observaciones corresponde a cada posible valor del rating medido en estrellas?\n",
    "\n",
    "Veamos cómo está balanceado nuestro dataset con respecto a la variable a predecir: las estrellas asignadas al producto."
   ]
  },
  {
   "cell_type": "code",
   "execution_count": 4,
   "metadata": {},
   "outputs": [
    {
     "data": {
      "image/png": "[encoded data removed]",
      "text/plain": [
       "<Figure size 432x288 with 1 Axes>"
      ]
     },
     "metadata": {
      "needs_background": "light"
     },
     "output_type": "display_data"
    }
   ],
   "source": [
    "sns.countplot(data_train.stars)\n",
    "plt.show()"
   ]
  },
  {
   "cell_type": "markdown",
   "metadata": {},
   "source": [
    "Tenemos un dataset perfectamente balanceado, ya que hay 40000 observaciones por cada cantidad de estrellas dentro del rango posible de estrellas de 1 a 5.\n",
    "\n",
    "### Conteo de categorías de producto:\n",
    "#### Pregunta: Cuántas categorías de productos hay?"
   ]
  },
  {
   "cell_type": "code",
   "execution_count": 5,
   "metadata": {},
   "outputs": [
    {
     "data": {
      "text/plain": [
       "home                        26962\n",
       "wireless                    25886\n",
       "toy                         13647\n",
       "sports                      13189\n",
       "pc                          11191\n",
       "home_improvement            10879\n",
       "electronics                 10385\n",
       "beauty                       7337\n",
       "automotive                   7143\n",
       "kitchen                      6695\n",
       "apparel                      5737\n",
       "drugstore                    5513\n",
       "book                         5264\n",
       "furniture                    5229\n",
       "baby_product                 4881\n",
       "office_product               4771\n",
       "lawn_and_garden              4237\n",
       "other                        3937\n",
       "pet_products                 3713\n",
       "personal_care_appliances     3573\n",
       "luggage                      3328\n",
       "camera                       3029\n",
       "shoes                        2754\n",
       "digital_ebook_purchase       1843\n",
       "video_games                  1733\n",
       "jewelry                      1598\n",
       "musical_instruments          1530\n",
       "watch                        1490\n",
       "industrial_supplies          1482\n",
       "grocery                      1044\n",
       "Name: product_category, dtype: int64"
      ]
     },
     "execution_count": 5,
     "metadata": {},
     "output_type": "execute_result"
    }
   ],
   "source": [
    "data_train.product_category.value_counts()"
   ]
  },
  {
   "cell_type": "markdown",
   "metadata": {},
   "source": [
    "Aquí observamos que estaremos analizando el rating en estrellas a lo largo de **30 categorías** de productos diferentes. Quizás ésta emerja como una variable importante a la hora de predecir estrellas. Lo veremos más adelante.\n",
    "\n",
    "### Conteo de productos agrupados por categorías\n",
    "#### Pregunta: Qué cantidad de productos han sido revisados por cada categoría?"
   ]
  },
  {
   "cell_type": "code",
   "execution_count": 6,
   "metadata": {},
   "outputs": [
    {
     "name": "stdout",
     "output_type": "stream",
     "text": [
      "Total de productos a los que se les ha hecho un review:  150938\n"
     ]
    },
    {
     "data": {
      "text/plain": [
       "product_category\n",
       "apparel                      4569\n",
       "automotive                   5438\n",
       "baby_product                 3701\n",
       "beauty                       5524\n",
       "book                         4400\n",
       "camera                       2296\n",
       "digital_ebook_purchase       1494\n",
       "drugstore                    4175\n",
       "electronics                  7517\n",
       "furniture                    3845\n",
       "grocery                       826\n",
       "home                        20440\n",
       "home_improvement             8202\n",
       "industrial_supplies          1146\n",
       "jewelry                      1247\n",
       "kitchen                      4820\n",
       "lawn_and_garden              3051\n",
       "luggage                      2585\n",
       "musical_instruments          1137\n",
       "office_product               3666\n",
       "other                        3071\n",
       "pc                           8345\n",
       "personal_care_appliances     2582\n",
       "pet_products                 2763\n",
       "shoes                        2277\n",
       "sports                      10084\n",
       "toy                         10361\n",
       "video_games                  1308\n",
       "watch                        1121\n",
       "wireless                    18947\n",
       "Name: product_id, dtype: int64"
      ]
     },
     "execution_count": 6,
     "metadata": {},
     "output_type": "execute_result"
    }
   ],
   "source": [
    "productos_por_categoria = data_train.groupby('product_category')['product_id'].nunique()\n",
    "print('Total de productos a los que se les ha hecho un review: ', productos_por_categoria.sum())\n",
    "productos_por_categoria"
   ]
  },
  {
   "cell_type": "markdown",
   "metadata": {},
   "source": [
    "Aquí observamos que las 200000 observaciones del dataset corresponden a 150938 productos. Ésto nos brinda más confianza en la posibilidad de generalizar nuestro modelo en comparación con una situación en la que todas ésas observaciones correspondiesen a unos pocos productos."
   ]
  },
  {
   "cell_type": "code",
   "execution_count": 7,
   "metadata": {},
   "outputs": [
    {
     "data": {
      "text/plain": [
       "product_category\n",
       "apparel                      2.2845\n",
       "automotive                   2.7190\n",
       "baby_product                 1.8505\n",
       "beauty                       2.7620\n",
       "book                         2.2000\n",
       "camera                       1.1480\n",
       "digital_ebook_purchase       0.7470\n",
       "drugstore                    2.0875\n",
       "electronics                  3.7585\n",
       "furniture                    1.9225\n",
       "grocery                      0.4130\n",
       "home                        10.2200\n",
       "home_improvement             4.1010\n",
       "industrial_supplies          0.5730\n",
       "jewelry                      0.6235\n",
       "kitchen                      2.4100\n",
       "lawn_and_garden              1.5255\n",
       "luggage                      1.2925\n",
       "musical_instruments          0.5685\n",
       "office_product               1.8330\n",
       "other                        1.5355\n",
       "pc                           4.1725\n",
       "personal_care_appliances     1.2910\n",
       "pet_products                 1.3815\n",
       "shoes                        1.1385\n",
       "sports                       5.0420\n",
       "toy                          5.1805\n",
       "video_games                  0.6540\n",
       "watch                        0.5605\n",
       "wireless                     9.4735\n",
       "Name: product_id, dtype: float64"
      ]
     },
     "execution_count": 7,
     "metadata": {},
     "output_type": "execute_result"
    }
   ],
   "source": [
    "# Podemos también observarlo en términos percentuales\n",
    "data_train.groupby('product_category')['product_id'].nunique() * 100 / data_train.shape[0]"
   ]
  },
  {
   "cell_type": "markdown",
   "metadata": {},
   "source": [
    "### Conteo de lenguajes\n",
    "#### Pregunta: En cuántos lenguajes diferentes fueron escritas las revisiones de los productos?\n",
    "\n",
    "Estamos utilizando los datos correspondientes a revisiones de producto hechas en castellano. Sin embargo, no está de más asegurarse de ésto."
   ]
  },
  {
   "cell_type": "code",
   "execution_count": 8,
   "metadata": {},
   "outputs": [
    {
     "data": {
      "text/plain": [
       "es    200000\n",
       "Name: language, dtype: int64"
      ]
     },
     "execution_count": 8,
     "metadata": {},
     "output_type": "execute_result"
    }
   ],
   "source": [
    "data_train.language.value_counts()"
   ]
  },
  {
   "cell_type": "markdown",
   "metadata": {},
   "source": [
    "Efectivamente, ésta columna es una constante, por lo que podemos descartarla:"
   ]
  },
  {
   "cell_type": "code",
   "execution_count": 9,
   "metadata": {},
   "outputs": [],
   "source": [
    "data_train.drop(columns = ['language'], inplace = True)"
   ]
  },
  {
   "cell_type": "markdown",
   "metadata": {},
   "source": [
    "### Identificador de revisión\n",
    "#### Pregunta: Hay observaciones repetidas?\n",
    "\n",
    "Vamos a asegurarnos de que cada identificador de las revisiones es un valor único. Si es así, podemos descartarlo. Es una manera de asegurarnos de que no hay observaciones repetidas. Pero ésta variable, en realidad, no aporta nada. Simplemente hace las veces de índice (como el índice de un pandas dataframe). Probablemente haya sido una \"primary key\" en la base de datos de Amazón."
   ]
  },
  {
   "cell_type": "code",
   "execution_count": 10,
   "metadata": {},
   "outputs": [
    {
     "data": {
      "text/plain": [
       "200000"
      ]
     },
     "execution_count": 10,
     "metadata": {},
     "output_type": "execute_result"
    }
   ],
   "source": [
    "data_train.review_id.nunique()"
   ]
  },
  {
   "cell_type": "code",
   "execution_count": 11,
   "metadata": {},
   "outputs": [],
   "source": [
    "# No hay observaciones repetidas, entonces descartamos la columna\n",
    "data_train.drop(columns = ['review_id'], inplace = True)"
   ]
  },
  {
   "cell_type": "markdown",
   "metadata": {},
   "source": [
    "### Revisores únicos\n",
    "#### Pregunta: Cuántos revisores únicos hay?"
   ]
  },
  {
   "cell_type": "code",
   "execution_count": 12,
   "metadata": {},
   "outputs": [
    {
     "data": {
      "text/plain": [
       "179076"
      ]
     },
     "execution_count": 12,
     "metadata": {},
     "output_type": "execute_result"
    }
   ],
   "source": [
    "data_train.reviewer_id.nunique()"
   ]
  },
  {
   "cell_type": "markdown",
   "metadata": {},
   "source": [
    "Se observa que hay una gran cantidad de revisores únicos en el total de observaciones."
   ]
  },
  {
   "cell_type": "markdown",
   "metadata": {},
   "source": [
    "## Transformación de los datos y EDA avanzado\n",
    "\n",
    "Vamos a proceder ahora a realizar un EDA pero ya utilizando las librerías específicas de NLP (NLTK y Spacy). Pero primero crearemos una sola columna con el texto entero de la review: `review_title` + `review_body`. Y luego una columna adicional con ese mismo texto pero \"lemmatizado\".\n",
    "\n",
    "La primera transformación es de carácter práctico, ya que el algoritmo no diferenciará entre título y cuerpo de la review, sino que andrá a analizar las palabras que uno y otro contienen. La transformación a texto ¨lemmatizado¨ es útil para evitar que el algoritmo tome como palabras diferentes, aquello que en realidad es la misma palabra en diferentes conjugaciones.\n",
    "\n",
    "De acuerdo a la explicación en la bitácora 39:\n",
    "> Otra manera de llevar distintas palabras a un raíz común en la que comparten un significado es mediante el procezo de 'Lemmatizar' el texto. Es similar al 'Stemming' pero un poco más educado, ya que intenta realizar el proceso teniendo en cuenta cuál es el rol que la palabra cumple en el texto. Esto quiere decir que su accionar será distinto si la palabra a lemmantizar está actuando como verbo, sustantivo, etc. \n"
   ]
  },
  {
   "cell_type": "code",
   "execution_count": 13,
   "metadata": {},
   "outputs": [],
   "source": [
    "# Instanciamos spaCy\n",
    "sp = spacy.load('es_core_news_sm')\n",
    "\n",
    "def lemmatizar(dataset, dataset_name):\n",
    "    try:\n",
    "        # Dado que el lemmatizer lleva mucho tiempo, si existen los datos guardados en disco, los cargamos.\n",
    "        dataset = pd.read_csv(f'./DS_Proyecto_03_{dataset_name}_lemma.csv')\n",
    "        print('Datos cargados desde el archivo')\n",
    "    except Exception as e:\n",
    "        print(e)\n",
    "        print('Generando lemmatizado...')\n",
    "        dataset['review_text'] = dataset['review_title'] + '. ' + dataset['review_body']\n",
    "        dataset['review_lemm'] = '' # la inicializamos con un string vacio\n",
    "        stop_words = sp.Defaults.stop_words\n",
    "\n",
    "        for i in range(dataset.shape[0]):\n",
    "            review = dataset['review_text'].iloc[i]\n",
    "            review_tk = nltk.RegexpTokenizer('\\w+').tokenize(review)\n",
    "            review_tk_lower_stop = [word.lower() for word in review_tk if word.lower() not in stop_words]\n",
    "            review_clean = ' '.join(review_tk_lower_stop)\n",
    "            review_clean = sp(review_clean)\n",
    "            lemmas_list = [word.lemma_ for word in review_clean]\n",
    "            dataset['review_lemm'].iloc[i] = ' '.join(lemmas_list)\n",
    "\n",
    "        dataset.to_csv(f'DS_Proyecto_03_{dataset_name}_lemma.csv', index = False, encoding = 'utf-8')\n",
    "    \n",
    "    return dataset"
   ]
  },
  {
   "cell_type": "code",
   "execution_count": 14,
   "metadata": {},
   "outputs": [
    {
     "name": "stdout",
     "output_type": "stream",
     "text": [
      "Datos cargados desde el archivo\n"
     ]
    }
   ],
   "source": [
    "data_train = lemmatizar(data_train, 'data_train')"
   ]
  },
  {
   "cell_type": "markdown",
   "metadata": {},
   "source": [
    "Creamos una función que inicialize un objeto (diccionario) que contenga el análisis exploratorio que queremos realizar.\n",
    "Abordamos, por separado, cada una de los valores posibles de las calificaciones: de 1 a 5.\n",
    "La estructura propuesta abajo facilita guardar cada uno de los pasos del análisis e información correspondiente\n",
    "a cada calificación."
   ]
  },
  {
   "cell_type": "code",
   "execution_count": 15,
   "metadata": {},
   "outputs": [],
   "source": [
    "def init_eda_nlp():\n",
    "    eda_nlp = {\n",
    "        'stars_1': {\n",
    "            'df': data_train[data_train.stars == 1],\n",
    "            'all_tokens': None, # Éstos serán relleandos con posterioridad, con un df con la frecuenia de\n",
    "            'df_review_tk_freq': None # cada token (para 'body', y 'title')\n",
    "        },\n",
    "        'stars_2': {\n",
    "            'df': data_train[data_train.stars == 2],\n",
    "            'all_tokens': None,\n",
    "            'df_review_tk_freq': None\n",
    "        },\n",
    "        'stars_3': {\n",
    "            'df': data_train[data_train.stars == 3],\n",
    "            'all_tokens': None,\n",
    "            'df_review_tk_freq': None\n",
    "        },\n",
    "        'stars_4': {\n",
    "            'df': data_train[data_train.stars == 4],\n",
    "            'all_tokens': None,\n",
    "            'df_review_tk_freq': None\n",
    "        },\n",
    "        'stars_5': {\n",
    "            'df': data_train[data_train.stars == 5],\n",
    "            'all_tokens': None,\n",
    "            'df_review_tk_freq': None\n",
    "        },\n",
    "    }\n",
    "    return eda_nlp"
   ]
  },
  {
   "cell_type": "code",
   "execution_count": 16,
   "metadata": {},
   "outputs": [],
   "source": [
    "def create_token_frequencies(stop_words):\n",
    "    eda_nlp = init_eda_nlp()\n",
    "    \n",
    "    for stars_x in eda_nlp:\n",
    "\n",
    "        print(f'Looping through {stars_x}...', end = '') # cada una de las calificaciones posibles (1 a 5)\n",
    "        eda_nlp[stars_x]['all_tokens'] = []\n",
    "\n",
    "        for i in range(eda_nlp[stars_x]['df'].shape[0]):\n",
    "\n",
    "            # Creamos una lista de tokens para el texto de la review:\n",
    "            review = eda_nlp[stars_x]['df'].iloc[i].review_text\n",
    "            review_tokenized = nltk.RegexpTokenizer('\\w+').tokenize(review)\n",
    "            review_tokenized = [word for word in review_tokenized if word not in stop_words]\n",
    "            eda_nlp[stars_x]['all_tokens'].append(review_tokenized)\n",
    "            \n",
    "        # Convertimos una lista de listas de tokens en una sola lista con todos los tokens (para 'title' y 'body')\n",
    "        eda_nlp[stars_x]['all_tokens'] = list(itertools.chain(*eda_nlp[stars_x]['all_tokens']))\n",
    "\n",
    "        # Creamos un df de pandas, para el texto de la review, con la frecuencia de cada token.\n",
    "        review_tk_freq_list = list(nltk.FreqDist(eda_nlp[stars_x]['all_tokens']).items())\n",
    "        eda_nlp[stars_x]['df_review_tk_freq'] = pd.DataFrame(review_tk_freq_list, columns = ['Word','Frequency'])\n",
    "\n",
    "        # Ordenamos de mayor a menor frecuencias los df que acabamos de crear\n",
    "        eda_nlp[stars_x]['df_review_tk_freq'].sort_values('Frequency', inplace = True, ascending = False)\n",
    "\n",
    "        # Reseteamos los índices, luego del ordenamiento realizado\n",
    "        eda_nlp[stars_x]['df_review_tk_freq'].reset_index(drop = True, inplace=True)\n",
    "\n",
    "        print('finished.\\n')\n",
    "        \n",
    "    return eda_nlp"
   ]
  },
  {
   "cell_type": "code",
   "execution_count": 17,
   "metadata": {},
   "outputs": [],
   "source": [
    "def plot_token_frequencies(eda_nlp):\n",
    "    for stars_x in eda_nlp:\n",
    "        print(f'Frecuencias para {stars_x}')\n",
    "        target_df = eda_nlp[stars_x][f'df_review_tk_freq']\n",
    "        plt.figure(figsize = (15,11))\n",
    "        plot = sns.barplot(x = target_df.iloc[:30].Frequency, y = target_df.iloc[:30].Word, orient = 'h')\n",
    "        plt.show()\n",
    "        print('\\n')"
   ]
  },
  {
   "cell_type": "code",
   "execution_count": 18,
   "metadata": {
    "scrolled": false
   },
   "outputs": [
    {
     "name": "stdout",
     "output_type": "stream",
     "text": [
      "Looping through stars_1...finished.\n",
      "\n",
      "Looping through stars_2...finished.\n",
      "\n",
      "Looping through stars_3...finished.\n",
      "\n",
      "Looping through stars_4...finished.\n",
      "\n",
      "Looping through stars_5...finished.\n",
      "\n",
      "Frecuencias para stars_1\n"
     ]
    },
    {
     "data": {
      "image/png": "[encoded data removed]",
      "text/plain": [
       "<Figure size 1080x792 with 1 Axes>"
      ]
     },
     "metadata": {
      "needs_background": "light"
     },
     "output_type": "display_data"
    },
    {
     "name": "stdout",
     "output_type": "stream",
     "text": [
      "\n",
      "\n",
      "Frecuencias para stars_2\n"
     ]
    },
    {
     "data": {
      "image/png": "[encoded data removed]",
      "text/plain": [
       "<Figure size 1080x792 with 1 Axes>"
      ]
     },
     "metadata": {
      "needs_background": "light"
     },
     "output_type": "display_data"
    },
    {
     "name": "stdout",
     "output_type": "stream",
     "text": [
      "\n",
      "\n",
      "Frecuencias para stars_3\n"
     ]
    },
    {
     "data": {
      "image/png": "[encoded data removed]",
      "text/plain": [
       "<Figure size 1080x792 with 1 Axes>"
      ]
     },
     "metadata": {
      "needs_background": "light"
     },
     "output_type": "display_data"
    },
    {
     "name": "stdout",
     "output_type": "stream",
     "text": [
      "\n",
      "\n",
      "Frecuencias para stars_4\n"
     ]
    },
    {
     "data": {
      "image/png": "[encoded data removed]",
      "text/plain": [
       "<Figure size 1080x792 with 1 Axes>"
      ]
     },
     "metadata": {
      "needs_background": "light"
     },
     "output_type": "display_data"
    },
    {
     "name": "stdout",
     "output_type": "stream",
     "text": [
      "\n",
      "\n",
      "Frecuencias para stars_5\n"
     ]
    },
    {
     "data": {
      "image/png": "[encoded data removed]",
      "text/plain": [
       "<Figure size 1080x792 with 1 Axes>"
      ]
     },
     "metadata": {
      "needs_background": "light"
     },
     "output_type": "display_data"
    },
    {
     "name": "stdout",
     "output_type": "stream",
     "text": [
      "\n",
      "\n"
     ]
    }
   ],
   "source": [
    "# Ejecutamos la función que acabamos de definir\n",
    "eda_nlp = create_token_frequencies(sp.Defaults.stop_words)\n",
    "\n",
    "# Y graficamos, para cada una de las calificaciones, las frecuencias para el 'title' y el 'body'\n",
    "plot_token_frequencies(eda_nlp)"
   ]
  },
  {
   "cell_type": "markdown",
   "metadata": {},
   "source": [
    "En ésta primera exploración de las frecuencias observamos que aparecen algunas stopwords que no venían por defecto en Spacy. Entonces vamos a proceder a agregarlas y a correr de nuevo el ploteo de frecuencias."
   ]
  },
  {
   "cell_type": "code",
   "execution_count": 19,
   "metadata": {},
   "outputs": [],
   "source": [
    "# Armamos una lista con las nuevas palabras que queremos agregar como stopwords:\n",
    "nuevas_stopwords = [\n",
    "    'y', 'muy', 'a', 'se', 'el', 'la', 'lo', 'le', 'les', 'los', 'las', 'una', 'uno', 'me', 'un', 'es',\n",
    "    'o', 'por', 'q', 'de', 'para', 'en', '1', '2', '3', '4', '5'\n",
    "]\n",
    "\n",
    "# y las añadimos a las stopwords de spacy\n",
    "spacy_stopwords = list(sp.Defaults.stop_words)\n",
    "stop_words = spacy_stopwords + nuevas_stopwords"
   ]
  },
  {
   "cell_type": "code",
   "execution_count": 20,
   "metadata": {
    "scrolled": false
   },
   "outputs": [
    {
     "name": "stdout",
     "output_type": "stream",
     "text": [
      "Looping through stars_1...finished.\n",
      "\n",
      "Looping through stars_2...finished.\n",
      "\n",
      "Looping through stars_3...finished.\n",
      "\n",
      "Looping through stars_4...finished.\n",
      "\n",
      "Looping through stars_5...finished.\n",
      "\n",
      "Frecuencias para stars_1\n"
     ]
    },
    {
     "data": {
      "image/png": "[encoded data removed]",
      "text/plain": [
       "<Figure size 1080x792 with 1 Axes>"
      ]
     },
     "metadata": {
      "needs_background": "light"
     },
     "output_type": "display_data"
    },
    {
     "name": "stdout",
     "output_type": "stream",
     "text": [
      "\n",
      "\n",
      "Frecuencias para stars_2\n"
     ]
    },
    {
     "data": {
      "image/png": "[encoded data removed]",
      "text/plain": [
       "<Figure size 1080x792 with 1 Axes>"
      ]
     },
     "metadata": {
      "needs_background": "light"
     },
     "output_type": "display_data"
    },
    {
     "name": "stdout",
     "output_type": "stream",
     "text": [
      "\n",
      "\n",
      "Frecuencias para stars_3\n"
     ]
    },
    {
     "data": {
      "image/png": "[encoded data removed]",
      "text/plain": [
       "<Figure size 1080x792 with 1 Axes>"
      ]
     },
     "metadata": {
      "needs_background": "light"
     },
     "output_type": "display_data"
    },
    {
     "name": "stdout",
     "output_type": "stream",
     "text": [
      "\n",
      "\n",
      "Frecuencias para stars_4\n"
     ]
    },
    {
     "data": {
      "image/png": "[encoded data removed]",
      "text/plain": [
       "<Figure size 1080x792 with 1 Axes>"
      ]
     },
     "metadata": {
      "needs_background": "light"
     },
     "output_type": "display_data"
    },
    {
     "name": "stdout",
     "output_type": "stream",
     "text": [
      "\n",
      "\n",
      "Frecuencias para stars_5\n"
     ]
    },
    {
     "data": {
      "image/png": "[encoded data removed]",
      "text/plain": [
       "<Figure size 1080x792 with 1 Axes>"
      ]
     },
     "metadata": {
      "needs_background": "light"
     },
     "output_type": "display_data"
    },
    {
     "name": "stdout",
     "output_type": "stream",
     "text": [
      "\n",
      "\n"
     ]
    }
   ],
   "source": [
    "# Y repetimos el ploteo de frecuencias\n",
    "eda_nlp = create_token_frequencies(stop_words)\n",
    "plot_token_frequencies(eda_nlp)"
   ]
  },
  {
   "cell_type": "markdown",
   "metadata": {},
   "source": [
    "Aquí ya podemos observar cómo algunas palabras se asocian más a calificaciones negativas (1 y 2 estrellas) mientras que otras son más frecuentes entre las calificaciones positivas (4 y 5 estrellas). Mencionaremos aquellas que tienen, a partir de nuestro conocimiento de la lengua, una connocatión negativa y positiva respectivamente:\n",
    "\n",
    "- Negativas: mala/o, fatal, roto, estafa, problema\n",
    "- Positivas: perfecto/perfectamente, fácil, genial, bonito, ideal, práctico, encanta, gusta/gustado\n",
    "\n",
    "Sin embargo, también hay otras palabras que aparecen frecuentemente independientemente de la calificación: `calidad`, `producto`, `funciona`, etc. Sin saber el contexto en el que fueron utilizadas, es imposible decir si son negativas o positivas. Por ejémplo, necesitariamos saber si `bueno/a` o `malo/a` se anteponen a `calidad` o a `producto`. O si `no` se antepone a `funciona` ya que, quizás, en realidad sea que `funciona` `perfectamente`)."
   ]
  },
  {
   "cell_type": "markdown",
   "metadata": {},
   "source": [
    "## TF-IDF\n",
    "\n",
    "A continuación, prepararemos los datos para ser modelados. Para ésto realizaremos un vectorizado con TF-IDF limitando los features a 1000 y usando hasta 2 ngramas. Y, si bien no sería necesario, pasaremos la matriz obtenida con el vectorizer a un dataframe pandas.\n",
    "Ésta técnica TF-IDF nos permite asignar un ¨peso¨ a cada término en nuestro texto lemmatizado. Para ser más específico:\n",
    "\n",
    ">The tf–idf value increases proportionally to the number of times a word appears in the document and is offset by the number of documents in the corpus that contain the word, which helps to adjust for the fact that some words appear more frequently in general.\n",
    ">\n",
    "\n",
    "Traducción propia: *El valor tf-idf incrementa de manera proporcional al número de veces en que una palabra aparece en el document y se compensa por el número de documentos del ¨corpus¨que contengan esa palabra. Ésto ayuda a ajustar por el hecho de que algunas palabras tienden a aparecer de manera más frecuente en general (por particularidades del lenguaje).*\n",
    "\n",
    "Fuente: https://en.wikipedia.org/wiki/Tf%E2%80%93idf"
   ]
  },
  {
   "cell_type": "code",
   "execution_count": 21,
   "metadata": {},
   "outputs": [],
   "source": [
    "# Creamos una función que devuelva un df pandas con los vectores\n",
    "def tfidf_dataset(dataset):\n",
    "    tfid_vctzer = TfidfVectorizer(max_features = 1000, ngram_range=(1,2))\n",
    "    sparse_out = tfid_vctzer.fit_transform(dataset['review_lemm'].values.astype('U'))\n",
    "    X = pd.DataFrame(data = sparse_out.toarray(), columns = tfid_vctzer.get_feature_names())\n",
    "    return X"
   ]
  },
  {
   "cell_type": "code",
   "execution_count": 22,
   "metadata": {},
   "outputs": [
    {
     "name": "stdout",
     "output_type": "stream",
     "text": [
      "Train X contains 200000 rows and 1000 columns\n"
     ]
    }
   ],
   "source": [
    "X = tfidf_dataset(data_train)\n",
    "X.to_csv(f'X.csv', index = False, encoding = 'utf-8') # we will utilize this in the next notebook\n",
    "print(f'Train X contains {X.shape[0]} rows and {X.shape[1]} columns')"
   ]
  },
  {
   "cell_type": "markdown",
   "metadata": {},
   "source": [
    "Ésto nos resulta en un dataframe pandas en el que hay una columna por cada una de las palabras que constituyen un feature. Por cada caso, está indicado el peso de la palabra (si es que aparece en el texto lemmatizado)."
   ]
  },
  {
   "cell_type": "markdown",
   "metadata": {},
   "source": [
    "# Parte B - Modelo de Machine Learning\n",
    "\n",
    "Estamos frente a un problema de clasificación y no de regresión. Si bien hay veces en que sobre éste tipo de ¨ratings¨ se hacen operaciones como la media, ésto es incorrecto ya que el tipo de variable es ordinal y no cuantitativa. Tomando un determinado texto, queremos predecir en cuál de las 5 categorías caería esa ¨review¨.\n",
    "\n",
    "La métrica de evaluación elegida es el accuracy (la fracción de las predicciones correctas por sobre el total de predicciones). Ésta métrica suele ser problemática cuando hay clases desbalanceadas. Afortunadamente no es el caso de nuestro dataset, en el cuál cada uno de los posibles valores de la variable a predecir (la cantidad de estrellas) corresponde a la quinta parte de las observaciones. En otras palabras, nuestros datos están perfectamente balanceados.\n",
    "\n",
    "## Modelo benchmark (LinearSVC sin optimizar)"
   ]
  },
  {
   "cell_type": "code",
   "execution_count": 23,
   "metadata": {},
   "outputs": [],
   "source": [
    "# X ya lo tenemos de la sección anterior\n",
    "y = data_train.stars\n",
    "X_train, X_test, y_train, y_test = train_test_split(X, y, test_size = 0.2, random_state = 42)"
   ]
  },
  {
   "cell_type": "code",
   "execution_count": 44,
   "metadata": {},
   "outputs": [
    {
     "data": {
      "text/plain": [
       "LinearSVC(C=1.0, class_weight=None, dual=True, fit_intercept=True,\n",
       "          intercept_scaling=1, loss='squared_hinge', max_iter=1000,\n",
       "          multi_class='ovr', penalty='l2', random_state=42, tol=0.0001,\n",
       "          verbose=0)"
      ]
     },
     "execution_count": 44,
     "metadata": {},
     "output_type": "execute_result"
    }
   ],
   "source": [
    "# Instanciamos el clasificador\n",
    "clf = LinearSVC(random_state = 42)\n",
    "# Entrenamos\n",
    "clf.fit(X_train, y_train)"
   ]
  },
  {
   "cell_type": "code",
   "execution_count": 45,
   "metadata": {},
   "outputs": [
    {
     "data": {
      "text/plain": [
       "0.480025"
      ]
     },
     "execution_count": 45,
     "metadata": {},
     "output_type": "execute_result"
    }
   ],
   "source": [
    "y_test_pred = clf.predict(X_test)\n",
    "accuracy_score(y_test_pred, y_test)"
   ]
  },
  {
   "cell_type": "code",
   "execution_count": 46,
   "metadata": {},
   "outputs": [
    {
     "data": {
      "text/plain": [
       "<sklearn.metrics._plot.confusion_matrix.ConfusionMatrixDisplay at 0x7f8354356150>"
      ]
     },
     "execution_count": 46,
     "metadata": {},
     "output_type": "execute_result"
    },
    {
     "data": {
      "image/png": "[encoded data removed]",
      "text/plain": [
       "<Figure size 432x288 with 2 Axes>"
      ]
     },
     "metadata": {
      "needs_background": "light"
     },
     "output_type": "display_data"
    }
   ],
   "source": [
    "plot_confusion_matrix(clf, X_test, y_test, cmap=plt.cm.Blues, values_format = '.0f')"
   ]
  },
  {
   "cell_type": "markdown",
   "metadata": {},
   "source": [
    "El resultado obtenido no parace ser muy bueno o, al menos, esperábamos un poco más. Cabe mencionar que las categorías 1 y 5 se predicen mejor que la 2, 3 y 4.\n",
    "\n",
    "A continuación, otros dos modelos que consideramos brevemente:"
   ]
  },
  {
   "cell_type": "code",
   "execution_count": 27,
   "metadata": {},
   "outputs": [
    {
     "name": "stdout",
     "output_type": "stream",
     "text": [
      "Accuracy para NB: 0.4735\n"
     ]
    }
   ],
   "source": [
    "nb = MultinomialNB()\n",
    "nb.fit(X_train, y_train)\n",
    "\n",
    "y_test_pred = nb.predict(X_test)\n",
    "acc_nb = accuracy_score(y_test_pred, y_test)\n",
    "print(f'Accuracy para NB: {acc_nb}')"
   ]
  },
  {
   "cell_type": "code",
   "execution_count": 28,
   "metadata": {},
   "outputs": [
    {
     "name": "stdout",
     "output_type": "stream",
     "text": [
      "Accuracy para NB: 0.4535\n"
     ]
    }
   ],
   "source": [
    "rf = RandomForestClassifier()\n",
    "rf.fit(X_train, y_train)\n",
    "\n",
    "y_test_pred = rf.predict(X_test)\n",
    "acc_rf = accuracy_score(y_test_pred, y_test)\n",
    "print(f'Accuracy para NB: {acc_rf}')"
   ]
  },
  {
   "cell_type": "markdown",
   "metadata": {},
   "source": [
    "Los resultados del Accuracy para éstos otros dos modelos son muy similares a lo que encontramos para el LinearSVC.\n",
    "\n",
    "Además de ser el que mejor accuracy nos brindó, nos decidimos por el LinearSVC por sus mayores velocidades de procesamiento en comparación con otros modelos (e.g. XGBoost, Multinomial NB, Logistic Regression, Random Forest) y porque tiende a tener buena performance en grandes datasets.\n",
    "\n",
    "Procedamos a optimizarlo."
   ]
  },
  {
   "cell_type": "markdown",
   "metadata": {},
   "source": [
    "## Optimización de hiperparámetros del LinearSVC\n",
    "\n",
    "Vamos a optimizar los siguientes parámetros:\n",
    "- **penalty**: es la norma de penalización utilizada, cuyos posibles valores son 'l1' y 'l2'. El estándard, para las máquinas de soporte vectorial, es ésta última. Sin embargo nos puede resultar beneficioso explorar el 'l1' ya que tenemos un gran número de features.\n",
    "- **loss**: es la función de costo, que puede variar entre sus dos opciones 'hinge' y 'squared_hinge' (por defecto). Ésta última penalizaría al modelo más severamente, cuanto más gravemente se equivoque.\n",
    "- **tol**: el nivel de tolerancia que indica cuándo el algorítmo debe dejar de buscar. En otras palabras, deja de buscar cuando está lo suficientemente cerca de una solución. Vamos a probar, con algunos valores en torno al por defecto de 0.0001.\n",
    "- **C**: es el parámetro de regularización para éste algoritmo. Según la documentación, la fuerza de la regularización es inversamente proporcional al valor de C, y debe ser un número positivo. Un C menor, hace que la superficie de desición sea más simple, reduce la bondad de la clasificación pero evita el sobreajuste. Y también en sentido contrario: una superficie de desición más compleja, incrementa la bondad de la clasificación para el dataset pero tiende al sobreajuste. Vamos a probar, con algunos valores en torno al valor por defecto de 1.0.\n",
    "- **multi_class**: los posibles valores 'ovr' y 'crammer_singer' determinan dos estrategias diferentes para problemas de clasificación multiclase, como el que estamos tratando. El primero realiza un \"one vs rest\", en el que compara cada una de las clases con el resto (en contraposición a estrategias \"one vs one\", que se pueden utilizar en otras algoritmos de máquinas vectoriales distintas del LinearSVC). El \"one vs rest\" crea un clasificador por clase. El segundo, Crammer & Singer, crea un sólo clasificador. Sin embargo, como dice en la documentación: *While crammer_singer is interesting from a theoretical perspective as it is consistent, it is seldom used in practice as it rarely leads to better accuracy and is more expensive to compute*. Así que optaremos por no utilizarlo, y nos quedaremos con el 'ovr'."
   ]
  },
  {
   "cell_type": "code",
   "execution_count": 29,
   "metadata": {},
   "outputs": [
    {
     "name": "stdout",
     "output_type": "stream",
     "text": [
      "CPU times: user 13.6 s, sys: 10.5 s, total: 24.1 s\n",
      "Wall time: 43min 5s\n"
     ]
    },
    {
     "data": {
      "text/plain": [
       "{'C': 0.1,\n",
       " 'loss': 'squared_hinge',\n",
       " 'multi_class': 'ovr',\n",
       " 'penalty': 'l1',\n",
       " 'tol': 0.001}"
      ]
     },
     "execution_count": 29,
     "metadata": {},
     "output_type": "execute_result"
    }
   ],
   "source": [
    "%%time\n",
    "param_grid = {\n",
    "    'penalty': ['l1', 'l2'],\n",
    "    'loss': ['hinge', 'squared_hinge'],\n",
    "    'tol': [1e-3, 1e-4, 1e-5],\n",
    "    'C': [0.01, 0.1, 0.5, 1.0, 1.1],\n",
    "    'multi_class': ['ovr']\n",
    "}\n",
    "\n",
    "clf = LinearSVC(random_state = 42, dual = False) # dual = False es preferible cuando n_samples > n_features\n",
    "clf_opt = GridSearchCV(estimator = clf, param_grid = param_grid, cv = 5, n_jobs = -1, scoring = 'accuracy')\n",
    "\n",
    "clf_opt.fit(X_train, y_train)\n",
    "clf_opt.best_params_"
   ]
  },
  {
   "cell_type": "code",
   "execution_count": 30,
   "metadata": {},
   "outputs": [
    {
     "name": "stdout",
     "output_type": "stream",
     "text": [
      "Accuracy para LinearSVC optimizado: 0.47805\n"
     ]
    }
   ],
   "source": [
    "y_test_pred = clf_opt.predict(X_test)\n",
    "acc_clf_opt = accuracy_score(y_test_pred, y_test)\n",
    "print(f'Accuracy para LinearSVC optimizado: {acc_clf_opt}')"
   ]
  },
  {
   "cell_type": "code",
   "execution_count": 32,
   "metadata": {},
   "outputs": [
    {
     "data": {
      "text/plain": [
       "<sklearn.metrics._plot.confusion_matrix.ConfusionMatrixDisplay at 0x7f835027f290>"
      ]
     },
     "execution_count": 32,
     "metadata": {},
     "output_type": "execute_result"
    },
    {
     "data": {
      "image/png": "[encoded data removed]",
      "text/plain": [
       "<Figure size 432x288 with 2 Axes>"
      ]
     },
     "metadata": {
      "needs_background": "light"
     },
     "output_type": "display_data"
    }
   ],
   "source": [
    "plot_confusion_matrix(clf_opt, X_test, y_test, cmap = plt.cm.Blues, values_format = '.0f')"
   ]
  },
  {
   "cell_type": "markdown",
   "metadata": {},
   "source": [
    "## Análisis de los resultados obtenidos\n",
    "\n",
    "Como se observa, no hemos logrado una optimización en comparación con el benchmark. Obtuvimos prácticamente el mismo accuracy, de hecho un poquito menor. Exceptuando el parámetro de penalty `l1` y la tolerancia de `0.001`, los otros dos parámetros optimizados resultaron ser los mismos valores que vienen por defecto.\n",
    "\n",
    "De todas formas, a continuación exponemos cuál es la información que estaría utilizando el modelo (el ¨best estimator¨ obtenido con el GridSearchCV) para predecir.\n",
    "\n",
    "Es importante notar que la propiedad `.coef_` arroja una matriz de 5x1000. Ésto es así ya que la estrategia ¨one vs rest¨ (ovr), utilizada para entrenar el modelo, crea 5 clasificadores. Cada uno de ellos corresponde a cada una de los valores posibles que puede adoptar la variable objetivo (cada una de las estrellas).\n",
    "En otras palabras, cada uno de los clasificadores obtenidos tendrá coeficientes distintos para las features (las 1000 palabras obtenidas mediante TF-IDF para cada una de las estrellas)."
   ]
  },
  {
   "cell_type": "code",
   "execution_count": 33,
   "metadata": {},
   "outputs": [
    {
     "data": {
      "text/plain": [
       "(5, 1000)"
      ]
     },
     "execution_count": 33,
     "metadata": {},
     "output_type": "execute_result"
    }
   ],
   "source": [
    "# Matriz de coeficientes. Cada fila corresponde a uno de los clasificadores creados por la estrategia ¨ovr¨\n",
    "coef_matrix = clf_opt.best_estimator_.coef_\n",
    "coef_matrix.shape"
   ]
  },
  {
   "cell_type": "code",
   "execution_count": 34,
   "metadata": {},
   "outputs": [],
   "source": [
    "def create_features_coef_df(coefs):\n",
    "    features = list(X.columns) # the name of the features (of the lemmatized terms)\n",
    "    coefs_list = list(coefs)\n",
    "    tuples_list = list(zip(features, coefs))\n",
    "    df = pd.DataFrame(tuples_list, columns = ['Feature', 'Coef'])\n",
    "    df_sorted = df.sort_values(by = 'Coef', ascending = False) # from highest coef to lowest coef\n",
    "    df_sorted.reset_index(drop = True, inplace = True)\n",
    "    return df_sorted"
   ]
  },
  {
   "cell_type": "markdown",
   "metadata": {},
   "source": [
    "Vamos a explorar las 30 palabras que tienen el coeficiente más alto para cada clasificador"
   ]
  },
  {
   "cell_type": "code",
   "execution_count": 35,
   "metadata": {},
   "outputs": [
    {
     "data": {
      "text/html": [
       "<div>\n",
       "<style scoped>\n",
       "    .dataframe tbody tr th:only-of-type {\n",
       "        vertical-align: middle;\n",
       "    }\n",
       "\n",
       "    .dataframe tbody tr th {\n",
       "        vertical-align: top;\n",
       "    }\n",
       "\n",
       "    .dataframe thead th {\n",
       "        text-align: right;\n",
       "    }\n",
       "</style>\n",
       "<table border=\"1\" class=\"dataframe\">\n",
       "  <thead>\n",
       "    <tr style=\"text-align: right;\">\n",
       "      <th></th>\n",
       "      <th>Feature</th>\n",
       "      <th>Coef</th>\n",
       "    </tr>\n",
       "  </thead>\n",
       "  <tbody>\n",
       "    <tr>\n",
       "      <th>0</th>\n",
       "      <td>estafar</td>\n",
       "      <td>2.554871</td>\n",
       "    </tr>\n",
       "    <tr>\n",
       "      <th>1</th>\n",
       "      <td>timar</td>\n",
       "      <td>1.840148</td>\n",
       "    </tr>\n",
       "    <tr>\n",
       "      <th>2</th>\n",
       "      <td>malísimo</td>\n",
       "      <td>1.733832</td>\n",
       "    </tr>\n",
       "    <tr>\n",
       "      <th>3</th>\n",
       "      <td>basura</td>\n",
       "      <td>1.627133</td>\n",
       "    </tr>\n",
       "    <tr>\n",
       "      <th>4</th>\n",
       "      <td>desastre</td>\n",
       "      <td>1.571939</td>\n",
       "    </tr>\n",
       "    <tr>\n",
       "      <th>5</th>\n",
       "      <td>fatal</td>\n",
       "      <td>1.556311</td>\n",
       "    </tr>\n",
       "    <tr>\n",
       "      <th>6</th>\n",
       "      <td>engañar</td>\n",
       "      <td>1.511021</td>\n",
       "    </tr>\n",
       "    <tr>\n",
       "      <th>7</th>\n",
       "      <td>vergüenza</td>\n",
       "      <td>1.349392</td>\n",
       "    </tr>\n",
       "    <tr>\n",
       "      <th>8</th>\n",
       "      <td>horrible</td>\n",
       "      <td>1.333726</td>\n",
       "    </tr>\n",
       "    <tr>\n",
       "      <th>9</th>\n",
       "      <td>recibir</td>\n",
       "      <td>1.213650</td>\n",
       "    </tr>\n",
       "    <tr>\n",
       "      <th>10</th>\n",
       "      <td>malo</td>\n",
       "      <td>1.197201</td>\n",
       "    </tr>\n",
       "    <tr>\n",
       "      <th>11</th>\n",
       "      <td>nefasto</td>\n",
       "      <td>1.185364</td>\n",
       "    </tr>\n",
       "    <tr>\n",
       "      <th>12</th>\n",
       "      <td>devolver</td>\n",
       "      <td>1.128076</td>\n",
       "    </tr>\n",
       "    <tr>\n",
       "      <th>13</th>\n",
       "      <td>falso</td>\n",
       "      <td>1.103659</td>\n",
       "    </tr>\n",
       "    <tr>\n",
       "      <th>14</th>\n",
       "      <td>dinero</td>\n",
       "      <td>1.092328</td>\n",
       "    </tr>\n",
       "    <tr>\n",
       "      <th>15</th>\n",
       "      <td>decepción</td>\n",
       "      <td>1.050433</td>\n",
       "    </tr>\n",
       "    <tr>\n",
       "      <th>16</th>\n",
       "      <td>absoluto</td>\n",
       "      <td>1.047907</td>\n",
       "    </tr>\n",
       "    <tr>\n",
       "      <th>17</th>\n",
       "      <td>descontentar</td>\n",
       "      <td>1.009512</td>\n",
       "    </tr>\n",
       "    <tr>\n",
       "      <th>18</th>\n",
       "      <td>imposible</td>\n",
       "      <td>1.006185</td>\n",
       "    </tr>\n",
       "    <tr>\n",
       "      <th>19</th>\n",
       "      <td>siquiera</td>\n",
       "      <td>0.962854</td>\n",
       "    </tr>\n",
       "    <tr>\n",
       "      <th>20</th>\n",
       "      <td>contestar</td>\n",
       "      <td>0.953678</td>\n",
       "    </tr>\n",
       "    <tr>\n",
       "      <th>21</th>\n",
       "      <td>devolverlo</td>\n",
       "      <td>0.935401</td>\n",
       "    </tr>\n",
       "    <tr>\n",
       "      <th>22</th>\n",
       "      <td>tirar dinero</td>\n",
       "      <td>0.921521</td>\n",
       "    </tr>\n",
       "    <tr>\n",
       "      <th>23</th>\n",
       "      <td>devolución</td>\n",
       "      <td>0.919585</td>\n",
       "    </tr>\n",
       "    <tr>\n",
       "      <th>24</th>\n",
       "      <td>llegar llegar</td>\n",
       "      <td>0.877436</td>\n",
       "    </tr>\n",
       "    <tr>\n",
       "      <th>25</th>\n",
       "      <td>llegar</td>\n",
       "      <td>0.855436</td>\n",
       "    </tr>\n",
       "    <tr>\n",
       "      <th>26</th>\n",
       "      <td>llegar producto</td>\n",
       "      <td>0.829193</td>\n",
       "    </tr>\n",
       "    <tr>\n",
       "      <th>27</th>\n",
       "      <td>recomer</td>\n",
       "      <td>0.825941</td>\n",
       "    </tr>\n",
       "    <tr>\n",
       "      <th>28</th>\n",
       "      <td>reembolsar</td>\n",
       "      <td>0.798744</td>\n",
       "    </tr>\n",
       "    <tr>\n",
       "      <th>29</th>\n",
       "      <td>mes</td>\n",
       "      <td>0.795419</td>\n",
       "    </tr>\n",
       "  </tbody>\n",
       "</table>\n",
       "</div>"
      ],
      "text/plain": [
       "            Feature      Coef\n",
       "0           estafar  2.554871\n",
       "1             timar  1.840148\n",
       "2          malísimo  1.733832\n",
       "3            basura  1.627133\n",
       "4          desastre  1.571939\n",
       "5             fatal  1.556311\n",
       "6           engañar  1.511021\n",
       "7         vergüenza  1.349392\n",
       "8          horrible  1.333726\n",
       "9           recibir  1.213650\n",
       "10             malo  1.197201\n",
       "11          nefasto  1.185364\n",
       "12         devolver  1.128076\n",
       "13            falso  1.103659\n",
       "14           dinero  1.092328\n",
       "15        decepción  1.050433\n",
       "16         absoluto  1.047907\n",
       "17     descontentar  1.009512\n",
       "18        imposible  1.006185\n",
       "19         siquiera  0.962854\n",
       "20        contestar  0.953678\n",
       "21       devolverlo  0.935401\n",
       "22     tirar dinero  0.921521\n",
       "23       devolución  0.919585\n",
       "24    llegar llegar  0.877436\n",
       "25           llegar  0.855436\n",
       "26  llegar producto  0.829193\n",
       "27          recomer  0.825941\n",
       "28       reembolsar  0.798744\n",
       "29              mes  0.795419"
      ]
     },
     "execution_count": 35,
     "metadata": {},
     "output_type": "execute_result"
    }
   ],
   "source": [
    "one_star_clf = create_features_coef_df(coef_matrix[0,:])\n",
    "one_star_clf.head(30)"
   ]
  },
  {
   "cell_type": "code",
   "execution_count": 36,
   "metadata": {},
   "outputs": [
    {
     "data": {
      "text/html": [
       "<div>\n",
       "<style scoped>\n",
       "    .dataframe tbody tr th:only-of-type {\n",
       "        vertical-align: middle;\n",
       "    }\n",
       "\n",
       "    .dataframe tbody tr th {\n",
       "        vertical-align: top;\n",
       "    }\n",
       "\n",
       "    .dataframe thead th {\n",
       "        text-align: right;\n",
       "    }\n",
       "</style>\n",
       "<table border=\"1\" class=\"dataframe\">\n",
       "  <thead>\n",
       "    <tr style=\"text-align: right;\">\n",
       "      <th></th>\n",
       "      <th>Feature</th>\n",
       "      <th>Coef</th>\n",
       "    </tr>\n",
       "  </thead>\n",
       "  <tbody>\n",
       "    <tr>\n",
       "      <th>0</th>\n",
       "      <td>penar</td>\n",
       "      <td>0.855521</td>\n",
       "    </tr>\n",
       "    <tr>\n",
       "      <th>1</th>\n",
       "      <td>convencer</td>\n",
       "      <td>0.828143</td>\n",
       "    </tr>\n",
       "    <tr>\n",
       "      <th>2</th>\n",
       "      <td>decepcionante</td>\n",
       "      <td>0.755502</td>\n",
       "    </tr>\n",
       "    <tr>\n",
       "      <th>3</th>\n",
       "      <td>pobre</td>\n",
       "      <td>0.721611</td>\n",
       "    </tr>\n",
       "    <tr>\n",
       "      <th>4</th>\n",
       "      <td>bajo</td>\n",
       "      <td>0.713969</td>\n",
       "    </tr>\n",
       "    <tr>\n",
       "      <th>5</th>\n",
       "      <td>decepcionar</td>\n",
       "      <td>0.699205</td>\n",
       "    </tr>\n",
       "    <tr>\n",
       "      <th>6</th>\n",
       "      <td>deficiente</td>\n",
       "      <td>0.672963</td>\n",
       "    </tr>\n",
       "    <tr>\n",
       "      <th>7</th>\n",
       "      <td>regular</td>\n",
       "      <td>0.619801</td>\n",
       "    </tr>\n",
       "    <tr>\n",
       "      <th>8</th>\n",
       "      <td>incómodo</td>\n",
       "      <td>0.595065</td>\n",
       "    </tr>\n",
       "    <tr>\n",
       "      <th>9</th>\n",
       "      <td>dejar desear</td>\n",
       "      <td>0.558216</td>\n",
       "    </tr>\n",
       "    <tr>\n",
       "      <th>10</th>\n",
       "      <td>endeble</td>\n",
       "      <td>0.539535</td>\n",
       "    </tr>\n",
       "    <tr>\n",
       "      <th>11</th>\n",
       "      <td>incompleto</td>\n",
       "      <td>0.539164</td>\n",
       "    </tr>\n",
       "    <tr>\n",
       "      <th>12</th>\n",
       "      <td>volveria</td>\n",
       "      <td>0.489225</td>\n",
       "    </tr>\n",
       "    <tr>\n",
       "      <th>13</th>\n",
       "      <td>escaso</td>\n",
       "      <td>0.486080</td>\n",
       "    </tr>\n",
       "    <tr>\n",
       "      <th>14</th>\n",
       "      <td>fallo</td>\n",
       "      <td>0.485432</td>\n",
       "    </tr>\n",
       "    <tr>\n",
       "      <th>15</th>\n",
       "      <td>suelto</td>\n",
       "      <td>0.468488</td>\n",
       "    </tr>\n",
       "    <tr>\n",
       "      <th>16</th>\n",
       "      <td>flojo</td>\n",
       "      <td>0.465482</td>\n",
       "    </tr>\n",
       "    <tr>\n",
       "      <th>17</th>\n",
       "      <td>frágil</td>\n",
       "      <td>0.452683</td>\n",
       "    </tr>\n",
       "    <tr>\n",
       "      <th>18</th>\n",
       "      <td>enorme</td>\n",
       "      <td>0.449220</td>\n",
       "    </tr>\n",
       "    <tr>\n",
       "      <th>19</th>\n",
       "      <td>romper</td>\n",
       "      <td>0.444346</td>\n",
       "    </tr>\n",
       "    <tr>\n",
       "      <th>20</th>\n",
       "      <td>mitad</td>\n",
       "      <td>0.442161</td>\n",
       "    </tr>\n",
       "    <tr>\n",
       "      <th>21</th>\n",
       "      <td>volver comprar</td>\n",
       "      <td>0.438862</td>\n",
       "    </tr>\n",
       "    <tr>\n",
       "      <th>22</th>\n",
       "      <td>motivar</td>\n",
       "      <td>0.431917</td>\n",
       "    </tr>\n",
       "    <tr>\n",
       "      <th>23</th>\n",
       "      <td>incomodar</td>\n",
       "      <td>0.429255</td>\n",
       "    </tr>\n",
       "    <tr>\n",
       "      <th>24</th>\n",
       "      <td>pequeño pequeño</td>\n",
       "      <td>0.428956</td>\n",
       "    </tr>\n",
       "    <tr>\n",
       "      <th>25</th>\n",
       "      <td>despegar</td>\n",
       "      <td>0.428010</td>\n",
       "    </tr>\n",
       "    <tr>\n",
       "      <th>26</th>\n",
       "      <td>fallar</td>\n",
       "      <td>0.422997</td>\n",
       "    </tr>\n",
       "    <tr>\n",
       "      <th>27</th>\n",
       "      <td>feo</td>\n",
       "      <td>0.420020</td>\n",
       "    </tr>\n",
       "    <tr>\n",
       "      <th>28</th>\n",
       "      <td>estrecho</td>\n",
       "      <td>0.419742</td>\n",
       "    </tr>\n",
       "    <tr>\n",
       "      <th>29</th>\n",
       "      <td>bajo calidad</td>\n",
       "      <td>0.414487</td>\n",
       "    </tr>\n",
       "  </tbody>\n",
       "</table>\n",
       "</div>"
      ],
      "text/plain": [
       "            Feature      Coef\n",
       "0             penar  0.855521\n",
       "1         convencer  0.828143\n",
       "2     decepcionante  0.755502\n",
       "3             pobre  0.721611\n",
       "4              bajo  0.713969\n",
       "5       decepcionar  0.699205\n",
       "6        deficiente  0.672963\n",
       "7           regular  0.619801\n",
       "8          incómodo  0.595065\n",
       "9      dejar desear  0.558216\n",
       "10          endeble  0.539535\n",
       "11       incompleto  0.539164\n",
       "12         volveria  0.489225\n",
       "13           escaso  0.486080\n",
       "14            fallo  0.485432\n",
       "15           suelto  0.468488\n",
       "16            flojo  0.465482\n",
       "17           frágil  0.452683\n",
       "18           enorme  0.449220\n",
       "19           romper  0.444346\n",
       "20            mitad  0.442161\n",
       "21   volver comprar  0.438862\n",
       "22          motivar  0.431917\n",
       "23        incomodar  0.429255\n",
       "24  pequeño pequeño  0.428956\n",
       "25         despegar  0.428010\n",
       "26           fallar  0.422997\n",
       "27              feo  0.420020\n",
       "28         estrecho  0.419742\n",
       "29     bajo calidad  0.414487"
      ]
     },
     "execution_count": 36,
     "metadata": {},
     "output_type": "execute_result"
    }
   ],
   "source": [
    "two_star_clf = create_features_coef_df(coef_matrix[1,:])\n",
    "two_star_clf.head(30)"
   ]
  },
  {
   "cell_type": "code",
   "execution_count": 37,
   "metadata": {},
   "outputs": [
    {
     "data": {
      "text/html": [
       "<div>\n",
       "<style scoped>\n",
       "    .dataframe tbody tr th:only-of-type {\n",
       "        vertical-align: middle;\n",
       "    }\n",
       "\n",
       "    .dataframe tbody tr th {\n",
       "        vertical-align: top;\n",
       "    }\n",
       "\n",
       "    .dataframe thead th {\n",
       "        text-align: right;\n",
       "    }\n",
       "</style>\n",
       "<table border=\"1\" class=\"dataframe\">\n",
       "  <thead>\n",
       "    <tr style=\"text-align: right;\">\n",
       "      <th></th>\n",
       "      <th>Feature</th>\n",
       "      <th>Coef</th>\n",
       "    </tr>\n",
       "  </thead>\n",
       "  <tbody>\n",
       "    <tr>\n",
       "      <th>0</th>\n",
       "      <td>mejorable</td>\n",
       "      <td>1.008612</td>\n",
       "    </tr>\n",
       "    <tr>\n",
       "      <th>1</th>\n",
       "      <td>aceptable</td>\n",
       "      <td>0.929342</td>\n",
       "    </tr>\n",
       "    <tr>\n",
       "      <th>2</th>\n",
       "      <td>regular</td>\n",
       "      <td>0.879541</td>\n",
       "    </tr>\n",
       "    <tr>\n",
       "      <th>3</th>\n",
       "      <td>medio</td>\n",
       "      <td>0.803760</td>\n",
       "    </tr>\n",
       "    <tr>\n",
       "      <th>4</th>\n",
       "      <td>normal</td>\n",
       "      <td>0.627521</td>\n",
       "    </tr>\n",
       "    <tr>\n",
       "      <th>5</th>\n",
       "      <td>apañar</td>\n",
       "      <td>0.604061</td>\n",
       "    </tr>\n",
       "    <tr>\n",
       "      <th>6</th>\n",
       "      <td>justo</td>\n",
       "      <td>0.556680</td>\n",
       "    </tr>\n",
       "    <tr>\n",
       "      <th>7</th>\n",
       "      <td>preciar pedir</td>\n",
       "      <td>0.550349</td>\n",
       "    </tr>\n",
       "    <tr>\n",
       "      <th>8</th>\n",
       "      <td>restar</td>\n",
       "      <td>0.491753</td>\n",
       "    </tr>\n",
       "    <tr>\n",
       "      <th>9</th>\n",
       "      <td>demas</td>\n",
       "      <td>0.473612</td>\n",
       "    </tr>\n",
       "    <tr>\n",
       "      <th>10</th>\n",
       "      <td>inconveniente</td>\n",
       "      <td>0.463596</td>\n",
       "    </tr>\n",
       "    <tr>\n",
       "      <th>11</th>\n",
       "      <td>demasiar</td>\n",
       "      <td>0.433866</td>\n",
       "    </tr>\n",
       "    <tr>\n",
       "      <th>12</th>\n",
       "      <td>función</td>\n",
       "      <td>0.404879</td>\n",
       "    </tr>\n",
       "    <tr>\n",
       "      <th>13</th>\n",
       "      <td>básico</td>\n",
       "      <td>0.401879</td>\n",
       "    </tr>\n",
       "    <tr>\n",
       "      <th>14</th>\n",
       "      <td>complicar</td>\n",
       "      <td>0.392084</td>\n",
       "    </tr>\n",
       "    <tr>\n",
       "      <th>15</th>\n",
       "      <td>escaso</td>\n",
       "      <td>0.388566</td>\n",
       "    </tr>\n",
       "    <tr>\n",
       "      <th>16</th>\n",
       "      <td>preciar</td>\n",
       "      <td>0.382371</td>\n",
       "    </tr>\n",
       "    <tr>\n",
       "      <th>17</th>\n",
       "      <td>costar</td>\n",
       "      <td>0.379519</td>\n",
       "    </tr>\n",
       "    <tr>\n",
       "      <th>18</th>\n",
       "      <td>depender</td>\n",
       "      <td>0.371042</td>\n",
       "    </tr>\n",
       "    <tr>\n",
       "      <th>19</th>\n",
       "      <td>deber</td>\n",
       "      <td>0.355538</td>\n",
       "    </tr>\n",
       "    <tr>\n",
       "      <th>20</th>\n",
       "      <td>mejorar</td>\n",
       "      <td>0.349953</td>\n",
       "    </tr>\n",
       "    <tr>\n",
       "      <th>21</th>\n",
       "      <td>pequeño</td>\n",
       "      <td>0.341616</td>\n",
       "    </tr>\n",
       "    <tr>\n",
       "      <th>22</th>\n",
       "      <td>grueso</td>\n",
       "      <td>0.337596</td>\n",
       "    </tr>\n",
       "    <tr>\n",
       "      <th>23</th>\n",
       "      <td>elevar</td>\n",
       "      <td>0.335761</td>\n",
       "    </tr>\n",
       "    <tr>\n",
       "      <th>24</th>\n",
       "      <td>ancho</td>\n",
       "      <td>0.328903</td>\n",
       "    </tr>\n",
       "    <tr>\n",
       "      <th>25</th>\n",
       "      <td>caro</td>\n",
       "      <td>0.323561</td>\n",
       "    </tr>\n",
       "    <tr>\n",
       "      <th>26</th>\n",
       "      <td>endeble</td>\n",
       "      <td>0.316421</td>\n",
       "    </tr>\n",
       "    <tr>\n",
       "      <th>27</th>\n",
       "      <td>cabo</td>\n",
       "      <td>0.316170</td>\n",
       "    </tr>\n",
       "    <tr>\n",
       "      <th>28</th>\n",
       "      <td>grande</td>\n",
       "      <td>0.314516</td>\n",
       "    </tr>\n",
       "    <tr>\n",
       "      <th>29</th>\n",
       "      <td>ser</td>\n",
       "      <td>0.308585</td>\n",
       "    </tr>\n",
       "  </tbody>\n",
       "</table>\n",
       "</div>"
      ],
      "text/plain": [
       "          Feature      Coef\n",
       "0       mejorable  1.008612\n",
       "1       aceptable  0.929342\n",
       "2         regular  0.879541\n",
       "3           medio  0.803760\n",
       "4          normal  0.627521\n",
       "5          apañar  0.604061\n",
       "6           justo  0.556680\n",
       "7   preciar pedir  0.550349\n",
       "8          restar  0.491753\n",
       "9           demas  0.473612\n",
       "10  inconveniente  0.463596\n",
       "11       demasiar  0.433866\n",
       "12        función  0.404879\n",
       "13         básico  0.401879\n",
       "14      complicar  0.392084\n",
       "15         escaso  0.388566\n",
       "16        preciar  0.382371\n",
       "17         costar  0.379519\n",
       "18       depender  0.371042\n",
       "19          deber  0.355538\n",
       "20        mejorar  0.349953\n",
       "21        pequeño  0.341616\n",
       "22         grueso  0.337596\n",
       "23         elevar  0.335761\n",
       "24          ancho  0.328903\n",
       "25           caro  0.323561\n",
       "26        endeble  0.316421\n",
       "27           cabo  0.316170\n",
       "28         grande  0.314516\n",
       "29            ser  0.308585"
      ]
     },
     "execution_count": 37,
     "metadata": {},
     "output_type": "execute_result"
    }
   ],
   "source": [
    "three_star_clf = create_features_coef_df(coef_matrix[2,:])\n",
    "three_star_clf.head(30)"
   ]
  },
  {
   "cell_type": "code",
   "execution_count": 38,
   "metadata": {},
   "outputs": [
    {
     "data": {
      "text/html": [
       "<div>\n",
       "<style scoped>\n",
       "    .dataframe tbody tr th:only-of-type {\n",
       "        vertical-align: middle;\n",
       "    }\n",
       "\n",
       "    .dataframe tbody tr th {\n",
       "        vertical-align: top;\n",
       "    }\n",
       "\n",
       "    .dataframe thead th {\n",
       "        text-align: right;\n",
       "    }\n",
       "</style>\n",
       "<table border=\"1\" class=\"dataframe\">\n",
       "  <thead>\n",
       "    <tr style=\"text-align: right;\">\n",
       "      <th></th>\n",
       "      <th>Feature</th>\n",
       "      <th>Coef</th>\n",
       "    </tr>\n",
       "  </thead>\n",
       "  <tbody>\n",
       "    <tr>\n",
       "      <th>0</th>\n",
       "      <td>único</td>\n",
       "      <td>1.502881</td>\n",
       "    </tr>\n",
       "    <tr>\n",
       "      <th>1</th>\n",
       "      <td>unico</td>\n",
       "      <td>1.070702</td>\n",
       "    </tr>\n",
       "    <tr>\n",
       "      <th>2</th>\n",
       "      <td>poner estrellar</td>\n",
       "      <td>0.999306</td>\n",
       "    </tr>\n",
       "    <tr>\n",
       "      <th>3</th>\n",
       "      <td>único pegar</td>\n",
       "      <td>0.769778</td>\n",
       "    </tr>\n",
       "    <tr>\n",
       "      <th>4</th>\n",
       "      <td>dar estrellar</td>\n",
       "      <td>0.752179</td>\n",
       "    </tr>\n",
       "    <tr>\n",
       "      <th>5</th>\n",
       "      <td>cumplir</td>\n",
       "      <td>0.643406</td>\n",
       "    </tr>\n",
       "    <tr>\n",
       "      <th>6</th>\n",
       "      <td>ponerle</td>\n",
       "      <td>0.642933</td>\n",
       "    </tr>\n",
       "    <tr>\n",
       "      <th>7</th>\n",
       "      <td>correcto</td>\n",
       "      <td>0.619939</td>\n",
       "    </tr>\n",
       "    <tr>\n",
       "      <th>8</th>\n",
       "      <td>relación</td>\n",
       "      <td>0.615563</td>\n",
       "    </tr>\n",
       "    <tr>\n",
       "      <th>9</th>\n",
       "      <td>llegar perfecto</td>\n",
       "      <td>0.576784</td>\n",
       "    </tr>\n",
       "    <tr>\n",
       "      <th>10</th>\n",
       "      <td>relacion</td>\n",
       "      <td>0.519348</td>\n",
       "    </tr>\n",
       "    <tr>\n",
       "      <th>11</th>\n",
       "      <td>perfectamente</td>\n",
       "      <td>0.513644</td>\n",
       "    </tr>\n",
       "    <tr>\n",
       "      <th>12</th>\n",
       "      <td>estrellar</td>\n",
       "      <td>0.472221</td>\n",
       "    </tr>\n",
       "    <tr>\n",
       "      <th>13</th>\n",
       "      <td>contentar</td>\n",
       "      <td>0.464423</td>\n",
       "    </tr>\n",
       "    <tr>\n",
       "      <th>14</th>\n",
       "      <td>negativo</td>\n",
       "      <td>0.461358</td>\n",
       "    </tr>\n",
       "    <tr>\n",
       "      <th>15</th>\n",
       "      <td>fácil</td>\n",
       "      <td>0.458663</td>\n",
       "    </tr>\n",
       "    <tr>\n",
       "      <th>16</th>\n",
       "      <td>cómodo</td>\n",
       "      <td>0.458257</td>\n",
       "    </tr>\n",
       "    <tr>\n",
       "      <th>17</th>\n",
       "      <td>interesante</td>\n",
       "      <td>0.456142</td>\n",
       "    </tr>\n",
       "    <tr>\n",
       "      <th>18</th>\n",
       "      <td>contento</td>\n",
       "      <td>0.440929</td>\n",
       "    </tr>\n",
       "    <tr>\n",
       "      <th>19</th>\n",
       "      <td>preciar</td>\n",
       "      <td>0.429150</td>\n",
       "    </tr>\n",
       "    <tr>\n",
       "      <th>20</th>\n",
       "      <td>necesidad</td>\n",
       "      <td>0.412688</td>\n",
       "    </tr>\n",
       "    <tr>\n",
       "      <th>21</th>\n",
       "      <td>demas</td>\n",
       "      <td>0.409772</td>\n",
       "    </tr>\n",
       "    <tr>\n",
       "      <th>22</th>\n",
       "      <td>entretener</td>\n",
       "      <td>0.397427</td>\n",
       "    </tr>\n",
       "    <tr>\n",
       "      <th>23</th>\n",
       "      <td>valer penar</td>\n",
       "      <td>0.383523</td>\n",
       "    </tr>\n",
       "    <tr>\n",
       "      <th>24</th>\n",
       "      <td>practicar</td>\n",
       "      <td>0.379840</td>\n",
       "    </tr>\n",
       "    <tr>\n",
       "      <th>25</th>\n",
       "      <td>calidad preciar</td>\n",
       "      <td>0.379705</td>\n",
       "    </tr>\n",
       "    <tr>\n",
       "      <th>26</th>\n",
       "      <td>robusto</td>\n",
       "      <td>0.376169</td>\n",
       "    </tr>\n",
       "    <tr>\n",
       "      <th>27</th>\n",
       "      <td>poquito</td>\n",
       "      <td>0.372850</td>\n",
       "    </tr>\n",
       "    <tr>\n",
       "      <th>28</th>\n",
       "      <td>inconveniente</td>\n",
       "      <td>0.372562</td>\n",
       "    </tr>\n",
       "    <tr>\n",
       "      <th>29</th>\n",
       "      <td>útil</td>\n",
       "      <td>0.371405</td>\n",
       "    </tr>\n",
       "  </tbody>\n",
       "</table>\n",
       "</div>"
      ],
      "text/plain": [
       "            Feature      Coef\n",
       "0             único  1.502881\n",
       "1             unico  1.070702\n",
       "2   poner estrellar  0.999306\n",
       "3       único pegar  0.769778\n",
       "4     dar estrellar  0.752179\n",
       "5           cumplir  0.643406\n",
       "6           ponerle  0.642933\n",
       "7          correcto  0.619939\n",
       "8          relación  0.615563\n",
       "9   llegar perfecto  0.576784\n",
       "10         relacion  0.519348\n",
       "11    perfectamente  0.513644\n",
       "12        estrellar  0.472221\n",
       "13        contentar  0.464423\n",
       "14         negativo  0.461358\n",
       "15            fácil  0.458663\n",
       "16           cómodo  0.458257\n",
       "17      interesante  0.456142\n",
       "18         contento  0.440929\n",
       "19          preciar  0.429150\n",
       "20        necesidad  0.412688\n",
       "21            demas  0.409772\n",
       "22       entretener  0.397427\n",
       "23      valer penar  0.383523\n",
       "24        practicar  0.379840\n",
       "25  calidad preciar  0.379705\n",
       "26          robusto  0.376169\n",
       "27          poquito  0.372850\n",
       "28    inconveniente  0.372562\n",
       "29             útil  0.371405"
      ]
     },
     "execution_count": 38,
     "metadata": {},
     "output_type": "execute_result"
    }
   ],
   "source": [
    "four_star_clf = create_features_coef_df(coef_matrix[3,:])\n",
    "four_star_clf.head(30)"
   ]
  },
  {
   "cell_type": "code",
   "execution_count": 39,
   "metadata": {},
   "outputs": [
    {
     "data": {
      "text/html": [
       "<div>\n",
       "<style scoped>\n",
       "    .dataframe tbody tr th:only-of-type {\n",
       "        vertical-align: middle;\n",
       "    }\n",
       "\n",
       "    .dataframe tbody tr th {\n",
       "        vertical-align: top;\n",
       "    }\n",
       "\n",
       "    .dataframe thead th {\n",
       "        text-align: right;\n",
       "    }\n",
       "</style>\n",
       "<table border=\"1\" class=\"dataframe\">\n",
       "  <thead>\n",
       "    <tr style=\"text-align: right;\">\n",
       "      <th></th>\n",
       "      <th>Feature</th>\n",
       "      <th>Coef</th>\n",
       "    </tr>\n",
       "  </thead>\n",
       "  <tbody>\n",
       "    <tr>\n",
       "      <th>0</th>\n",
       "      <td>perfecto</td>\n",
       "      <td>1.790901</td>\n",
       "    </tr>\n",
       "    <tr>\n",
       "      <th>1</th>\n",
       "      <td>encantar</td>\n",
       "      <td>1.727333</td>\n",
       "    </tr>\n",
       "    <tr>\n",
       "      <th>2</th>\n",
       "      <td>excelente</td>\n",
       "      <td>1.630191</td>\n",
       "    </tr>\n",
       "    <tr>\n",
       "      <th>3</th>\n",
       "      <td>fantástico</td>\n",
       "      <td>1.522510</td>\n",
       "    </tr>\n",
       "    <tr>\n",
       "      <th>4</th>\n",
       "      <td>genial</td>\n",
       "      <td>1.432947</td>\n",
       "    </tr>\n",
       "    <tr>\n",
       "      <th>5</th>\n",
       "      <td>espectacular</td>\n",
       "      <td>1.331883</td>\n",
       "    </tr>\n",
       "    <tr>\n",
       "      <th>6</th>\n",
       "      <td>precioso</td>\n",
       "      <td>1.278964</td>\n",
       "    </tr>\n",
       "    <tr>\n",
       "      <th>7</th>\n",
       "      <td>perfección</td>\n",
       "      <td>1.211985</td>\n",
       "    </tr>\n",
       "    <tr>\n",
       "      <th>8</th>\n",
       "      <td>perfectamente</td>\n",
       "      <td>1.199731</td>\n",
       "    </tr>\n",
       "    <tr>\n",
       "      <th>9</th>\n",
       "      <td>maravillar</td>\n",
       "      <td>1.187299</td>\n",
       "    </tr>\n",
       "    <tr>\n",
       "      <th>10</th>\n",
       "      <td>estupendo</td>\n",
       "      <td>1.172698</td>\n",
       "    </tr>\n",
       "    <tr>\n",
       "      <th>11</th>\n",
       "      <td>inmejorable</td>\n",
       "      <td>1.127330</td>\n",
       "    </tr>\n",
       "    <tr>\n",
       "      <th>12</th>\n",
       "      <td>100</td>\n",
       "      <td>1.121393</td>\n",
       "    </tr>\n",
       "    <tr>\n",
       "      <th>13</th>\n",
       "      <td>super</td>\n",
       "      <td>1.040458</td>\n",
       "    </tr>\n",
       "    <tr>\n",
       "      <th>14</th>\n",
       "      <td>sorprender</td>\n",
       "      <td>1.030756</td>\n",
       "    </tr>\n",
       "    <tr>\n",
       "      <th>15</th>\n",
       "      <td>ideal</td>\n",
       "      <td>1.028854</td>\n",
       "    </tr>\n",
       "    <tr>\n",
       "      <th>16</th>\n",
       "      <td>increíble</td>\n",
       "      <td>1.024812</td>\n",
       "    </tr>\n",
       "    <tr>\n",
       "      <th>17</th>\n",
       "      <td>fenomenal</td>\n",
       "      <td>0.933926</td>\n",
       "    </tr>\n",
       "    <tr>\n",
       "      <th>18</th>\n",
       "      <td>dudar</td>\n",
       "      <td>0.919665</td>\n",
       "    </tr>\n",
       "    <tr>\n",
       "      <th>19</th>\n",
       "      <td>acertar</td>\n",
       "      <td>0.902715</td>\n",
       "    </tr>\n",
       "    <tr>\n",
       "      <th>20</th>\n",
       "      <td>recomendable</td>\n",
       "      <td>0.856234</td>\n",
       "    </tr>\n",
       "    <tr>\n",
       "      <th>21</th>\n",
       "      <td>súper</td>\n",
       "      <td>0.838320</td>\n",
       "    </tr>\n",
       "    <tr>\n",
       "      <th>22</th>\n",
       "      <td>valer penar</td>\n",
       "      <td>0.838284</td>\n",
       "    </tr>\n",
       "    <tr>\n",
       "      <th>23</th>\n",
       "      <td>satisfacer</td>\n",
       "      <td>0.833864</td>\n",
       "    </tr>\n",
       "    <tr>\n",
       "      <th>24</th>\n",
       "      <td>contento</td>\n",
       "      <td>0.797013</td>\n",
       "    </tr>\n",
       "    <tr>\n",
       "      <th>25</th>\n",
       "      <td>contentar</td>\n",
       "      <td>0.758246</td>\n",
       "    </tr>\n",
       "    <tr>\n",
       "      <th>26</th>\n",
       "      <td>calidad</td>\n",
       "      <td>0.722862</td>\n",
       "    </tr>\n",
       "    <tr>\n",
       "      <th>27</th>\n",
       "      <td>rápido</td>\n",
       "      <td>0.689491</td>\n",
       "    </tr>\n",
       "    <tr>\n",
       "      <th>28</th>\n",
       "      <td>rapido</td>\n",
       "      <td>0.676920</td>\n",
       "    </tr>\n",
       "    <tr>\n",
       "      <th>29</th>\n",
       "      <td>recomendar</td>\n",
       "      <td>0.662972</td>\n",
       "    </tr>\n",
       "  </tbody>\n",
       "</table>\n",
       "</div>"
      ],
      "text/plain": [
       "          Feature      Coef\n",
       "0        perfecto  1.790901\n",
       "1        encantar  1.727333\n",
       "2       excelente  1.630191\n",
       "3      fantástico  1.522510\n",
       "4          genial  1.432947\n",
       "5    espectacular  1.331883\n",
       "6        precioso  1.278964\n",
       "7      perfección  1.211985\n",
       "8   perfectamente  1.199731\n",
       "9      maravillar  1.187299\n",
       "10      estupendo  1.172698\n",
       "11    inmejorable  1.127330\n",
       "12            100  1.121393\n",
       "13          super  1.040458\n",
       "14     sorprender  1.030756\n",
       "15          ideal  1.028854\n",
       "16      increíble  1.024812\n",
       "17      fenomenal  0.933926\n",
       "18          dudar  0.919665\n",
       "19        acertar  0.902715\n",
       "20   recomendable  0.856234\n",
       "21          súper  0.838320\n",
       "22    valer penar  0.838284\n",
       "23     satisfacer  0.833864\n",
       "24       contento  0.797013\n",
       "25      contentar  0.758246\n",
       "26        calidad  0.722862\n",
       "27         rápido  0.689491\n",
       "28         rapido  0.676920\n",
       "29     recomendar  0.662972"
      ]
     },
     "execution_count": 39,
     "metadata": {},
     "output_type": "execute_result"
    }
   ],
   "source": [
    "five_star_clf = create_features_coef_df(coef_matrix[4,:])\n",
    "five_star_clf.head(30)"
   ]
  },
  {
   "cell_type": "markdown",
   "metadata": {},
   "source": [
    "Como se observa, los términos que adquirieron mayor peso (coeficientes más altos) por cada clasificador, son congruentes con la categoría.\n",
    "\n",
    "Para ser más específicos:\n",
    "\n",
    "- **1 estrella**: `estafar`, `timar`, `malísimo`, `basura`, `desastre`, `fatal`, `engañar`, etc. Son todas palabras que en la lengua castellana tienen una clara connotación negativa. Se comunica principalmente que al usuario se le ha sacado el dinero y absolutamente no le dieron lo que esperaba.\n",
    "\n",
    "- **2 estrellas**: `penar`, `convencer`, `decepcionante`, `bajo`, `pobre`, `deficiente`, `dejar desear`, `incómodo`, etc. Son también palabras que tienen connotación negativa, si bien podemos estar de acuerdo en que tienen una ¨tonalidad¨ menor de negatividad en comparación con las de 1 estrella. El producto ha quedado muy lejos de las expectativas.\n",
    "\n",
    "- **3 estrellas**: `mejorable`, `aceptable`, `normal`, `regular`, `medio`. Todas ellas son neutrales.\n",
    "\n",
    "- **4 estrellas**: `único`, `poner estrellar` / `dar estrellar`, `cumplir`, `correcto`. Ésta categoría parece ser bastante ambigua, para ser honestos. Hay palabras que tienen una ligera connotación positiva como `cumplir` y `correcto`. Pero otras, hipotetizamos, estarían apuntando a explicar porque le pusieron 4 estrellas en vez de 5. La palabra `único` quizás, en el contexto de la review, estaría apuntando a explicar una sóla cosa que le haya faltado al producto para no merecer la máxima evaluación. La palabra `relación` también aparece en lo que quizás sería una típica expresión en éste tipo de contexto: `relación calidad precio`.\n",
    "\n",
    "- **5 estrellas**: `perfecto`, `encantar`, `excelente`, `fantástico`, `genial`. Todas tienen una connotación claramente positiva, y comunican mucho más que mera conformidad con el producto.\n",
    "\n",
    "Todo ésto coincide con lo que habríamos esperado. Los clasificadores para cada categoría utilizan palabras que tienen, en general, gran nivel de congruencia con las evaluaciones correspondientes. Éstamos convencidos de que cualquier hablante de la lengua castellana estaría de acuerdo con ésta conclusión."
   ]
  },
  {
   "cell_type": "markdown",
   "metadata": {},
   "source": [
    "# Parte C - Investigación\n",
    "\n",
    "Como sugiere la consigna, y considerando los accuracies obtenidos, parece que, en efecto, valdría la pena intentar convertir éste problema de clasificación multiclase en un problema binario.\n",
    "\n",
    "Podríamos dividirlo de ésta manera:\n",
    "- Estrellas **1**, **2** y **3** serían calificación negativa, que codeamos como **0**\n",
    "- Estrellas **4** y **5** serían calificación positiva, que codeamos como **1**\n",
    "\n",
    "La decisión de dejar la categoría de 3 estrellas como una calificación negativa en el problema binario, corresponde a una interpretación desde la lógica del business. En términos coloquiales, una evaluación positiva nos deja tranquilos y contentos, mientras que una evaluación negativa nos empujaría a mejorar. Por eso, le damos más peso a la parte negativa e invitaríamos así, a los vendedores de los productos, a apuntar a la excelencia.\n",
    "\n",
    "Se espera que el desempeño mejore al binificar, ya que estaríamos simplificando el problema. Pasaríamos de 5 categorías a solamente 2. De ésta manera, se espera que muchos de los desaciertos del modelo en el problema de 5 estrellas, quedarían capturados correctamente en el problema de calificación binaria.\n",
    "\n",
    "El accuracy debería estar por encima de 0.5, ya que ese es el márgen de una decisión azarosa cuando se tienen dos categorías posibles. Idealmente se lograría un accuracy por encima de 0.75.\n",
    "\n",
    "Es de particular importancia notar que, si decidimos ir por la senda del problema binario, quedaríamos con un dataset ligeramente desbalanceado (recordemos que nuestros datos, hasta éste momento estaban perfectamente balanceados). En el problema binario, el 60% de los datos corresponderían a la clasificación negativa, mientras que el 40% restante a la clasificación positiva. \n",
    "\n",
    "A continuación podemos hacer algunas pruebas preliminares para ver si estamos orientados correctamente."
   ]
  },
  {
   "cell_type": "code",
   "execution_count": 40,
   "metadata": {},
   "outputs": [
    {
     "data": {
      "text/plain": [
       "0    96075\n",
       "1    63925\n",
       "Name: stars, dtype: int64"
      ]
     },
     "execution_count": 40,
     "metadata": {},
     "output_type": "execute_result"
    }
   ],
   "source": [
    "# Convertimos el dataframe a binario\n",
    "\n",
    "binify = lambda x: 1 if x > 3 else 0\n",
    "y_train_bin = y_train.transform(binify)\n",
    "y_test_bin = y_test.transform(binify)\n",
    "y_train_bin.value_counts()"
   ]
  },
  {
   "cell_type": "code",
   "execution_count": 41,
   "metadata": {},
   "outputs": [
    {
     "data": {
      "text/plain": [
       "0    23925\n",
       "1    16075\n",
       "Name: stars, dtype: int64"
      ]
     },
     "execution_count": 41,
     "metadata": {},
     "output_type": "execute_result"
    }
   ],
   "source": [
    "y_test_bin.value_counts()"
   ]
  },
  {
   "cell_type": "code",
   "execution_count": 42,
   "metadata": {},
   "outputs": [
    {
     "data": {
      "text/plain": [
       "LinearSVC(C=1.0, class_weight=None, dual=True, fit_intercept=True,\n",
       "          intercept_scaling=1, loss='squared_hinge', max_iter=1000,\n",
       "          multi_class='ovr', penalty='l2', random_state=42, tol=0.0001,\n",
       "          verbose=0)"
      ]
     },
     "execution_count": 42,
     "metadata": {},
     "output_type": "execute_result"
    }
   ],
   "source": [
    "clf_binary = LinearSVC(random_state = 42)\n",
    "clf_binary.fit(X_train, y_train_bin)"
   ]
  },
  {
   "cell_type": "code",
   "execution_count": 43,
   "metadata": {},
   "outputs": [
    {
     "data": {
      "text/plain": [
       "0.815425"
      ]
     },
     "execution_count": 43,
     "metadata": {},
     "output_type": "execute_result"
    }
   ],
   "source": [
    "y_test_pred_bin = clf_binary.predict(X_test)\n",
    "accuracy_score(y_test_pred_bin, y_test_bin)"
   ]
  },
  {
   "cell_type": "markdown",
   "metadata": {},
   "source": [
    "Como supusimos, el accuracy aumenta cuando el problema se simplifica a dos categorías. Ésto indicaría que binificar el problema nos pondría en una buena dirección para avanzar con la tarea."
   ]
  }
 ],
 "metadata": {
  "colab": {
   "collapsed_sections": [],
   "name": "DS_Proyecto_03_NLP.ipynb",
   "provenance": []
  },
  "kernelspec": {
   "display_name": "Python 3",
   "language": "python",
   "name": "python3"
  },
  "language_info": {
   "codemirror_mode": {
    "name": "ipython",
    "version": 3
   },
   "file_extension": ".py",
   "mimetype": "text/x-python",
   "name": "python",
   "nbconvert_exporter": "python",
   "pygments_lexer": "ipython3",
   "version": "3.7.7"
  }
 },
 "nbformat": 4,
 "nbformat_minor": 1
}
